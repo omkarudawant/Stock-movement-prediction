{
 "cells": [
  {
   "cell_type": "code",
   "execution_count": 1,
   "metadata": {
    "ExecuteTime": {
     "end_time": "2019-12-11T18:50:44.235799Z",
     "start_time": "2019-12-11T18:50:43.374505Z"
    }
   },
   "outputs": [],
   "source": [
    "from warnings import filterwarnings\n",
    "from collections import Counter\n",
    "filterwarnings('ignore')\n",
    "%matplotlib inline \n",
    "\n",
    "import pandas as pd\n",
    "import numpy as np\n",
    "import matplotlib.pyplot as plt\n",
    "import seaborn as sns \n",
    "sns.set_style('darkgrid')"
   ]
  },
  {
   "cell_type": "code",
   "execution_count": 2,
   "metadata": {
    "ExecuteTime": {
     "end_time": "2019-12-11T18:50:44.273049Z",
     "start_time": "2019-12-11T18:50:44.238813Z"
    }
   },
   "outputs": [
    {
     "data": {
      "text/html": [
       "<div>\n",
       "<style scoped>\n",
       "    .dataframe tbody tr th:only-of-type {\n",
       "        vertical-align: middle;\n",
       "    }\n",
       "\n",
       "    .dataframe tbody tr th {\n",
       "        vertical-align: top;\n",
       "    }\n",
       "\n",
       "    .dataframe thead th {\n",
       "        text-align: right;\n",
       "    }\n",
       "</style>\n",
       "<table border=\"1\" class=\"dataframe\">\n",
       "  <thead>\n",
       "    <tr style=\"text-align: right;\">\n",
       "      <th></th>\n",
       "      <th>4570</th>\n",
       "      <th>4571</th>\n",
       "      <th>4572</th>\n",
       "      <th>4573</th>\n",
       "      <th>4574</th>\n",
       "    </tr>\n",
       "  </thead>\n",
       "  <tbody>\n",
       "    <tr>\n",
       "      <th>status</th>\n",
       "      <td>GAIN</td>\n",
       "      <td>GAIN</td>\n",
       "      <td>LOSS</td>\n",
       "      <td>LOSS</td>\n",
       "      <td>GAIN</td>\n",
       "    </tr>\n",
       "    <tr>\n",
       "      <th>shortlong</th>\n",
       "      <td>COMPRADO</td>\n",
       "      <td>COMPRADO</td>\n",
       "      <td>COMPRADO</td>\n",
       "      <td>COMPRADO</td>\n",
       "      <td>COMPRADO</td>\n",
       "    </tr>\n",
       "    <tr>\n",
       "      <th>forceIndex</th>\n",
       "      <td>100</td>\n",
       "      <td>140</td>\n",
       "      <td>140</td>\n",
       "      <td>80</td>\n",
       "      <td>95</td>\n",
       "    </tr>\n",
       "    <tr>\n",
       "      <th>trend2min</th>\n",
       "      <td>90</td>\n",
       "      <td>-50</td>\n",
       "      <td>165</td>\n",
       "      <td>20</td>\n",
       "      <td>15</td>\n",
       "    </tr>\n",
       "    <tr>\n",
       "      <th>trend5min</th>\n",
       "      <td>130</td>\n",
       "      <td>100</td>\n",
       "      <td>220</td>\n",
       "      <td>75</td>\n",
       "      <td>30</td>\n",
       "    </tr>\n",
       "    <tr>\n",
       "      <th>trend10min</th>\n",
       "      <td>120</td>\n",
       "      <td>155</td>\n",
       "      <td>100</td>\n",
       "      <td>80</td>\n",
       "      <td>80</td>\n",
       "    </tr>\n",
       "    <tr>\n",
       "      <th>trend15min</th>\n",
       "      <td>65</td>\n",
       "      <td>255</td>\n",
       "      <td>120</td>\n",
       "      <td>125</td>\n",
       "      <td>30</td>\n",
       "    </tr>\n",
       "    <tr>\n",
       "      <th>difCand5</th>\n",
       "      <td>100</td>\n",
       "      <td>140</td>\n",
       "      <td>140</td>\n",
       "      <td>80</td>\n",
       "      <td>95</td>\n",
       "    </tr>\n",
       "    <tr>\n",
       "      <th>buildDate</th>\n",
       "      <td>1573673099000</td>\n",
       "      <td>1573673399000</td>\n",
       "      <td>1573673699000</td>\n",
       "      <td>1573674299000</td>\n",
       "      <td>1573675499000</td>\n",
       "    </tr>\n",
       "    <tr>\n",
       "      <th>difOpenClose</th>\n",
       "      <td>110</td>\n",
       "      <td>-50</td>\n",
       "      <td>185</td>\n",
       "      <td>50</td>\n",
       "      <td>10</td>\n",
       "    </tr>\n",
       "    <tr>\n",
       "      <th>dojy</th>\n",
       "      <td>False</td>\n",
       "      <td>False</td>\n",
       "      <td>False</td>\n",
       "      <td>False</td>\n",
       "      <td>False</td>\n",
       "    </tr>\n",
       "    <tr>\n",
       "      <th>hammer</th>\n",
       "      <td>False</td>\n",
       "      <td>False</td>\n",
       "      <td>False</td>\n",
       "      <td>False</td>\n",
       "      <td>False</td>\n",
       "    </tr>\n",
       "    <tr>\n",
       "      <th>breakout</th>\n",
       "      <td>False</td>\n",
       "      <td>False</td>\n",
       "      <td>False</td>\n",
       "      <td>False</td>\n",
       "      <td>False</td>\n",
       "    </tr>\n",
       "    <tr>\n",
       "      <th>highGulf</th>\n",
       "      <td>False</td>\n",
       "      <td>False</td>\n",
       "      <td>False</td>\n",
       "      <td>False</td>\n",
       "      <td>False</td>\n",
       "    </tr>\n",
       "    <tr>\n",
       "      <th>lowGulf</th>\n",
       "      <td>False</td>\n",
       "      <td>False</td>\n",
       "      <td>False</td>\n",
       "      <td>False</td>\n",
       "      <td>False</td>\n",
       "    </tr>\n",
       "  </tbody>\n",
       "</table>\n",
       "</div>"
      ],
      "text/plain": [
       "                       4570           4571           4572           4573  \\\n",
       "status                 GAIN           GAIN           LOSS           LOSS   \n",
       "shortlong          COMPRADO       COMPRADO       COMPRADO       COMPRADO   \n",
       "forceIndex              100            140            140             80   \n",
       "trend2min                90            -50            165             20   \n",
       "trend5min               130            100            220             75   \n",
       "trend10min              120            155            100             80   \n",
       "trend15min               65            255            120            125   \n",
       "difCand5                100            140            140             80   \n",
       "buildDate     1573673099000  1573673399000  1573673699000  1573674299000   \n",
       "difOpenClose            110            -50            185             50   \n",
       "dojy                  False          False          False          False   \n",
       "hammer                False          False          False          False   \n",
       "breakout              False          False          False          False   \n",
       "highGulf              False          False          False          False   \n",
       "lowGulf               False          False          False          False   \n",
       "\n",
       "                       4574  \n",
       "status                 GAIN  \n",
       "shortlong          COMPRADO  \n",
       "forceIndex               95  \n",
       "trend2min                15  \n",
       "trend5min                30  \n",
       "trend10min               80  \n",
       "trend15min               30  \n",
       "difCand5                 95  \n",
       "buildDate     1573675499000  \n",
       "difOpenClose             10  \n",
       "dojy                  False  \n",
       "hammer                False  \n",
       "breakout              False  \n",
       "highGulf              False  \n",
       "lowGulf               False  "
      ]
     },
     "execution_count": 2,
     "metadata": {},
     "output_type": "execute_result"
    }
   ],
   "source": [
    "df = pd.read_csv('ML_Input_Model_Train.csv', delimiter=';')\n",
    "df.tail().T"
   ]
  },
  {
   "cell_type": "code",
   "execution_count": 3,
   "metadata": {
    "ExecuteTime": {
     "end_time": "2019-12-11T18:50:44.376535Z",
     "start_time": "2019-12-11T18:50:44.275250Z"
    }
   },
   "outputs": [
    {
     "name": "stdout",
     "output_type": "stream",
     "text": [
      "4\n",
      "2\n",
      "4575\n"
     ]
    }
   ],
   "source": [
    "print(len(df['status'].unique()))\n",
    "print(len(df['shortlong'].unique()))\n",
    "print(len(df['buildDate'].unique()))"
   ]
  },
  {
   "cell_type": "code",
   "execution_count": 4,
   "metadata": {
    "ExecuteTime": {
     "end_time": "2019-12-11T18:50:44.543224Z",
     "start_time": "2019-12-11T18:50:44.380276Z"
    }
   },
   "outputs": [
    {
     "data": {
      "text/html": [
       "<div>\n",
       "<style scoped>\n",
       "    .dataframe tbody tr th:only-of-type {\n",
       "        vertical-align: middle;\n",
       "    }\n",
       "\n",
       "    .dataframe tbody tr th {\n",
       "        vertical-align: top;\n",
       "    }\n",
       "\n",
       "    .dataframe thead th {\n",
       "        text-align: right;\n",
       "    }\n",
       "</style>\n",
       "<table border=\"1\" class=\"dataframe\">\n",
       "  <thead>\n",
       "    <tr style=\"text-align: right;\">\n",
       "      <th></th>\n",
       "      <th>4570</th>\n",
       "      <th>4571</th>\n",
       "      <th>4572</th>\n",
       "      <th>4573</th>\n",
       "      <th>4574</th>\n",
       "    </tr>\n",
       "  </thead>\n",
       "  <tbody>\n",
       "    <tr>\n",
       "      <th>status</th>\n",
       "      <td>GAIN</td>\n",
       "      <td>GAIN</td>\n",
       "      <td>LOSS</td>\n",
       "      <td>LOSS</td>\n",
       "      <td>GAIN</td>\n",
       "    </tr>\n",
       "    <tr>\n",
       "      <th>shortlong</th>\n",
       "      <td>COMPRADO</td>\n",
       "      <td>COMPRADO</td>\n",
       "      <td>COMPRADO</td>\n",
       "      <td>COMPRADO</td>\n",
       "      <td>COMPRADO</td>\n",
       "    </tr>\n",
       "    <tr>\n",
       "      <th>forceIndex</th>\n",
       "      <td>100</td>\n",
       "      <td>140</td>\n",
       "      <td>140</td>\n",
       "      <td>80</td>\n",
       "      <td>95</td>\n",
       "    </tr>\n",
       "    <tr>\n",
       "      <th>trend2min</th>\n",
       "      <td>90</td>\n",
       "      <td>-50</td>\n",
       "      <td>165</td>\n",
       "      <td>20</td>\n",
       "      <td>15</td>\n",
       "    </tr>\n",
       "    <tr>\n",
       "      <th>trend5min</th>\n",
       "      <td>130</td>\n",
       "      <td>100</td>\n",
       "      <td>220</td>\n",
       "      <td>75</td>\n",
       "      <td>30</td>\n",
       "    </tr>\n",
       "    <tr>\n",
       "      <th>trend10min</th>\n",
       "      <td>120</td>\n",
       "      <td>155</td>\n",
       "      <td>100</td>\n",
       "      <td>80</td>\n",
       "      <td>80</td>\n",
       "    </tr>\n",
       "    <tr>\n",
       "      <th>trend15min</th>\n",
       "      <td>65</td>\n",
       "      <td>255</td>\n",
       "      <td>120</td>\n",
       "      <td>125</td>\n",
       "      <td>30</td>\n",
       "    </tr>\n",
       "    <tr>\n",
       "      <th>difCand5</th>\n",
       "      <td>100</td>\n",
       "      <td>140</td>\n",
       "      <td>140</td>\n",
       "      <td>80</td>\n",
       "      <td>95</td>\n",
       "    </tr>\n",
       "    <tr>\n",
       "      <th>buildDate</th>\n",
       "      <td>2019-11-13 19:24:59</td>\n",
       "      <td>2019-11-13 19:29:59</td>\n",
       "      <td>2019-11-13 19:34:59</td>\n",
       "      <td>2019-11-13 19:44:59</td>\n",
       "      <td>2019-11-13 20:04:59</td>\n",
       "    </tr>\n",
       "    <tr>\n",
       "      <th>difOpenClose</th>\n",
       "      <td>110</td>\n",
       "      <td>-50</td>\n",
       "      <td>185</td>\n",
       "      <td>50</td>\n",
       "      <td>10</td>\n",
       "    </tr>\n",
       "    <tr>\n",
       "      <th>dojy</th>\n",
       "      <td>False</td>\n",
       "      <td>False</td>\n",
       "      <td>False</td>\n",
       "      <td>False</td>\n",
       "      <td>False</td>\n",
       "    </tr>\n",
       "    <tr>\n",
       "      <th>hammer</th>\n",
       "      <td>False</td>\n",
       "      <td>False</td>\n",
       "      <td>False</td>\n",
       "      <td>False</td>\n",
       "      <td>False</td>\n",
       "    </tr>\n",
       "    <tr>\n",
       "      <th>breakout</th>\n",
       "      <td>False</td>\n",
       "      <td>False</td>\n",
       "      <td>False</td>\n",
       "      <td>False</td>\n",
       "      <td>False</td>\n",
       "    </tr>\n",
       "    <tr>\n",
       "      <th>highGulf</th>\n",
       "      <td>False</td>\n",
       "      <td>False</td>\n",
       "      <td>False</td>\n",
       "      <td>False</td>\n",
       "      <td>False</td>\n",
       "    </tr>\n",
       "    <tr>\n",
       "      <th>lowGulf</th>\n",
       "      <td>False</td>\n",
       "      <td>False</td>\n",
       "      <td>False</td>\n",
       "      <td>False</td>\n",
       "      <td>False</td>\n",
       "    </tr>\n",
       "  </tbody>\n",
       "</table>\n",
       "</div>"
      ],
      "text/plain": [
       "                             4570                 4571                 4572  \\\n",
       "status                       GAIN                 GAIN                 LOSS   \n",
       "shortlong                COMPRADO             COMPRADO             COMPRADO   \n",
       "forceIndex                    100                  140                  140   \n",
       "trend2min                      90                  -50                  165   \n",
       "trend5min                     130                  100                  220   \n",
       "trend10min                    120                  155                  100   \n",
       "trend15min                     65                  255                  120   \n",
       "difCand5                      100                  140                  140   \n",
       "buildDate     2019-11-13 19:24:59  2019-11-13 19:29:59  2019-11-13 19:34:59   \n",
       "difOpenClose                  110                  -50                  185   \n",
       "dojy                        False                False                False   \n",
       "hammer                      False                False                False   \n",
       "breakout                    False                False                False   \n",
       "highGulf                    False                False                False   \n",
       "lowGulf                     False                False                False   \n",
       "\n",
       "                             4573                 4574  \n",
       "status                       LOSS                 GAIN  \n",
       "shortlong                COMPRADO             COMPRADO  \n",
       "forceIndex                     80                   95  \n",
       "trend2min                      20                   15  \n",
       "trend5min                      75                   30  \n",
       "trend10min                     80                   80  \n",
       "trend15min                    125                   30  \n",
       "difCand5                       80                   95  \n",
       "buildDate     2019-11-13 19:44:59  2019-11-13 20:04:59  \n",
       "difOpenClose                   50                   10  \n",
       "dojy                        False                False  \n",
       "hammer                      False                False  \n",
       "breakout                    False                False  \n",
       "highGulf                    False                False  \n",
       "lowGulf                     False                False  "
      ]
     },
     "execution_count": 4,
     "metadata": {},
     "output_type": "execute_result"
    }
   ],
   "source": [
    "df['buildDate'] = pd.to_datetime(df['buildDate'], unit='ms')\n",
    "df.tail().T"
   ]
  },
  {
   "cell_type": "code",
   "execution_count": 5,
   "metadata": {
    "ExecuteTime": {
     "end_time": "2019-12-11T18:50:44.617854Z",
     "start_time": "2019-12-11T18:50:44.545068Z"
    }
   },
   "outputs": [],
   "source": [
    "df.set_index('buildDate', inplace=True)"
   ]
  },
  {
   "cell_type": "code",
   "execution_count": 6,
   "metadata": {
    "ExecuteTime": {
     "end_time": "2019-12-11T18:50:44.730351Z",
     "start_time": "2019-12-11T18:50:44.620439Z"
    }
   },
   "outputs": [
    {
     "data": {
      "text/plain": [
       "Index(['status', 'shortlong', 'forceIndex', 'trend2min', 'trend5min',\n",
       "       'trend10min', 'trend15min', 'difCand5', 'difOpenClose', 'dojy',\n",
       "       'hammer', 'breakout', 'highGulf', 'lowGulf'],\n",
       "      dtype='object')"
      ]
     },
     "execution_count": 6,
     "metadata": {},
     "output_type": "execute_result"
    }
   ],
   "source": [
    "df.columns"
   ]
  },
  {
   "cell_type": "code",
   "execution_count": 7,
   "metadata": {
    "ExecuteTime": {
     "end_time": "2019-12-11T18:50:44.835107Z",
     "start_time": "2019-12-11T18:50:44.736989Z"
    }
   },
   "outputs": [],
   "source": [
    "df['dojy'] = df['dojy'].astype('int')\n",
    "df['hammer'] = df['hammer'].astype('int')\n",
    "df['breakout'] = df['breakout'].astype('int') \n",
    "df['highGulf'] = df['highGulf'].astype('int') \n",
    "df['lowGulf'] = df['lowGulf'].astype('int')"
   ]
  },
  {
   "cell_type": "code",
   "execution_count": 8,
   "metadata": {
    "ExecuteTime": {
     "end_time": "2019-12-11T18:50:45.010808Z",
     "start_time": "2019-12-11T18:50:44.838605Z"
    }
   },
   "outputs": [
    {
     "data": {
      "text/html": [
       "<div>\n",
       "<style scoped>\n",
       "    .dataframe tbody tr th:only-of-type {\n",
       "        vertical-align: middle;\n",
       "    }\n",
       "\n",
       "    .dataframe tbody tr th {\n",
       "        vertical-align: top;\n",
       "    }\n",
       "\n",
       "    .dataframe thead th {\n",
       "        text-align: right;\n",
       "    }\n",
       "</style>\n",
       "<table border=\"1\" class=\"dataframe\">\n",
       "  <thead>\n",
       "    <tr style=\"text-align: right;\">\n",
       "      <th>buildDate</th>\n",
       "      <th>2019-11-13 19:24:59</th>\n",
       "      <th>2019-11-13 19:29:59</th>\n",
       "      <th>2019-11-13 19:34:59</th>\n",
       "      <th>2019-11-13 19:44:59</th>\n",
       "      <th>2019-11-13 20:04:59</th>\n",
       "    </tr>\n",
       "  </thead>\n",
       "  <tbody>\n",
       "    <tr>\n",
       "      <th>status</th>\n",
       "      <td>GAIN</td>\n",
       "      <td>GAIN</td>\n",
       "      <td>LOSS</td>\n",
       "      <td>LOSS</td>\n",
       "      <td>GAIN</td>\n",
       "    </tr>\n",
       "    <tr>\n",
       "      <th>shortlong</th>\n",
       "      <td>COMPRADO</td>\n",
       "      <td>COMPRADO</td>\n",
       "      <td>COMPRADO</td>\n",
       "      <td>COMPRADO</td>\n",
       "      <td>COMPRADO</td>\n",
       "    </tr>\n",
       "    <tr>\n",
       "      <th>forceIndex</th>\n",
       "      <td>100</td>\n",
       "      <td>140</td>\n",
       "      <td>140</td>\n",
       "      <td>80</td>\n",
       "      <td>95</td>\n",
       "    </tr>\n",
       "    <tr>\n",
       "      <th>trend2min</th>\n",
       "      <td>90</td>\n",
       "      <td>-50</td>\n",
       "      <td>165</td>\n",
       "      <td>20</td>\n",
       "      <td>15</td>\n",
       "    </tr>\n",
       "    <tr>\n",
       "      <th>trend5min</th>\n",
       "      <td>130</td>\n",
       "      <td>100</td>\n",
       "      <td>220</td>\n",
       "      <td>75</td>\n",
       "      <td>30</td>\n",
       "    </tr>\n",
       "    <tr>\n",
       "      <th>trend10min</th>\n",
       "      <td>120</td>\n",
       "      <td>155</td>\n",
       "      <td>100</td>\n",
       "      <td>80</td>\n",
       "      <td>80</td>\n",
       "    </tr>\n",
       "    <tr>\n",
       "      <th>trend15min</th>\n",
       "      <td>65</td>\n",
       "      <td>255</td>\n",
       "      <td>120</td>\n",
       "      <td>125</td>\n",
       "      <td>30</td>\n",
       "    </tr>\n",
       "    <tr>\n",
       "      <th>difCand5</th>\n",
       "      <td>100</td>\n",
       "      <td>140</td>\n",
       "      <td>140</td>\n",
       "      <td>80</td>\n",
       "      <td>95</td>\n",
       "    </tr>\n",
       "    <tr>\n",
       "      <th>difOpenClose</th>\n",
       "      <td>110</td>\n",
       "      <td>-50</td>\n",
       "      <td>185</td>\n",
       "      <td>50</td>\n",
       "      <td>10</td>\n",
       "    </tr>\n",
       "    <tr>\n",
       "      <th>dojy</th>\n",
       "      <td>0</td>\n",
       "      <td>0</td>\n",
       "      <td>0</td>\n",
       "      <td>0</td>\n",
       "      <td>0</td>\n",
       "    </tr>\n",
       "    <tr>\n",
       "      <th>hammer</th>\n",
       "      <td>0</td>\n",
       "      <td>0</td>\n",
       "      <td>0</td>\n",
       "      <td>0</td>\n",
       "      <td>0</td>\n",
       "    </tr>\n",
       "    <tr>\n",
       "      <th>breakout</th>\n",
       "      <td>0</td>\n",
       "      <td>0</td>\n",
       "      <td>0</td>\n",
       "      <td>0</td>\n",
       "      <td>0</td>\n",
       "    </tr>\n",
       "    <tr>\n",
       "      <th>highGulf</th>\n",
       "      <td>0</td>\n",
       "      <td>0</td>\n",
       "      <td>0</td>\n",
       "      <td>0</td>\n",
       "      <td>0</td>\n",
       "    </tr>\n",
       "    <tr>\n",
       "      <th>lowGulf</th>\n",
       "      <td>0</td>\n",
       "      <td>0</td>\n",
       "      <td>0</td>\n",
       "      <td>0</td>\n",
       "      <td>0</td>\n",
       "    </tr>\n",
       "  </tbody>\n",
       "</table>\n",
       "</div>"
      ],
      "text/plain": [
       "buildDate    2019-11-13 19:24:59 2019-11-13 19:29:59 2019-11-13 19:34:59  \\\n",
       "status                      GAIN                GAIN                LOSS   \n",
       "shortlong               COMPRADO            COMPRADO            COMPRADO   \n",
       "forceIndex                   100                 140                 140   \n",
       "trend2min                     90                 -50                 165   \n",
       "trend5min                    130                 100                 220   \n",
       "trend10min                   120                 155                 100   \n",
       "trend15min                    65                 255                 120   \n",
       "difCand5                     100                 140                 140   \n",
       "difOpenClose                 110                 -50                 185   \n",
       "dojy                           0                   0                   0   \n",
       "hammer                         0                   0                   0   \n",
       "breakout                       0                   0                   0   \n",
       "highGulf                       0                   0                   0   \n",
       "lowGulf                        0                   0                   0   \n",
       "\n",
       "buildDate    2019-11-13 19:44:59 2019-11-13 20:04:59  \n",
       "status                      LOSS                GAIN  \n",
       "shortlong               COMPRADO            COMPRADO  \n",
       "forceIndex                    80                  95  \n",
       "trend2min                     20                  15  \n",
       "trend5min                     75                  30  \n",
       "trend10min                    80                  80  \n",
       "trend15min                   125                  30  \n",
       "difCand5                      80                  95  \n",
       "difOpenClose                  50                  10  \n",
       "dojy                           0                   0  \n",
       "hammer                         0                   0  \n",
       "breakout                       0                   0  \n",
       "highGulf                       0                   0  \n",
       "lowGulf                        0                   0  "
      ]
     },
     "execution_count": 8,
     "metadata": {},
     "output_type": "execute_result"
    }
   ],
   "source": [
    "df.tail().T"
   ]
  },
  {
   "cell_type": "code",
   "execution_count": 9,
   "metadata": {
    "ExecuteTime": {
     "end_time": "2019-12-11T18:50:45.085810Z",
     "start_time": "2019-12-11T18:50:45.013103Z"
    }
   },
   "outputs": [
    {
     "name": "stdout",
     "output_type": "stream",
     "text": [
      "['GAIN' 'LOSS' 'COMPRADO' 'VENDIDO']\n",
      "['VENDIDO' 'COMPRADO']\n"
     ]
    }
   ],
   "source": [
    "print(df['status'].unique())\n",
    "print(df['shortlong'].unique())"
   ]
  },
  {
   "cell_type": "code",
   "execution_count": 10,
   "metadata": {
    "ExecuteTime": {
     "end_time": "2019-12-11T18:50:45.210307Z",
     "start_time": "2019-12-11T18:50:45.090149Z"
    }
   },
   "outputs": [],
   "source": [
    "df.drop(df[df['status'] == 'COMPRADO'].index, inplace=True)\n",
    "df.drop(df[df['status'] == 'VENDIDO'].index, inplace=True)\n",
    "\n",
    "df['status'].replace(to_replace='GAIN', value=1, inplace=True)\n",
    "df['status'].replace(to_replace='LOSS', value=0, inplace=True)\n",
    "\n",
    "df['shortlong'].replace(to_replace='COMPRADO', value=1, inplace=True)\n",
    "df['shortlong'].replace(to_replace='VENDIDO', value=0, inplace=True)"
   ]
  },
  {
   "cell_type": "code",
   "execution_count": 11,
   "metadata": {
    "ExecuteTime": {
     "end_time": "2019-12-11T18:50:45.305888Z",
     "start_time": "2019-12-11T18:50:45.212816Z"
    }
   },
   "outputs": [
    {
     "data": {
      "text/html": [
       "<div>\n",
       "<style scoped>\n",
       "    .dataframe tbody tr th:only-of-type {\n",
       "        vertical-align: middle;\n",
       "    }\n",
       "\n",
       "    .dataframe tbody tr th {\n",
       "        vertical-align: top;\n",
       "    }\n",
       "\n",
       "    .dataframe thead th {\n",
       "        text-align: right;\n",
       "    }\n",
       "</style>\n",
       "<table border=\"1\" class=\"dataframe\">\n",
       "  <thead>\n",
       "    <tr style=\"text-align: right;\">\n",
       "      <th>buildDate</th>\n",
       "      <th>2019-11-13 19:24:59</th>\n",
       "      <th>2019-11-13 19:29:59</th>\n",
       "      <th>2019-11-13 19:34:59</th>\n",
       "      <th>2019-11-13 19:44:59</th>\n",
       "      <th>2019-11-13 20:04:59</th>\n",
       "    </tr>\n",
       "  </thead>\n",
       "  <tbody>\n",
       "    <tr>\n",
       "      <th>status</th>\n",
       "      <td>1</td>\n",
       "      <td>1</td>\n",
       "      <td>0</td>\n",
       "      <td>0</td>\n",
       "      <td>1</td>\n",
       "    </tr>\n",
       "    <tr>\n",
       "      <th>shortlong</th>\n",
       "      <td>1</td>\n",
       "      <td>1</td>\n",
       "      <td>1</td>\n",
       "      <td>1</td>\n",
       "      <td>1</td>\n",
       "    </tr>\n",
       "    <tr>\n",
       "      <th>forceIndex</th>\n",
       "      <td>100</td>\n",
       "      <td>140</td>\n",
       "      <td>140</td>\n",
       "      <td>80</td>\n",
       "      <td>95</td>\n",
       "    </tr>\n",
       "    <tr>\n",
       "      <th>trend2min</th>\n",
       "      <td>90</td>\n",
       "      <td>-50</td>\n",
       "      <td>165</td>\n",
       "      <td>20</td>\n",
       "      <td>15</td>\n",
       "    </tr>\n",
       "    <tr>\n",
       "      <th>trend5min</th>\n",
       "      <td>130</td>\n",
       "      <td>100</td>\n",
       "      <td>220</td>\n",
       "      <td>75</td>\n",
       "      <td>30</td>\n",
       "    </tr>\n",
       "    <tr>\n",
       "      <th>trend10min</th>\n",
       "      <td>120</td>\n",
       "      <td>155</td>\n",
       "      <td>100</td>\n",
       "      <td>80</td>\n",
       "      <td>80</td>\n",
       "    </tr>\n",
       "    <tr>\n",
       "      <th>trend15min</th>\n",
       "      <td>65</td>\n",
       "      <td>255</td>\n",
       "      <td>120</td>\n",
       "      <td>125</td>\n",
       "      <td>30</td>\n",
       "    </tr>\n",
       "    <tr>\n",
       "      <th>difCand5</th>\n",
       "      <td>100</td>\n",
       "      <td>140</td>\n",
       "      <td>140</td>\n",
       "      <td>80</td>\n",
       "      <td>95</td>\n",
       "    </tr>\n",
       "    <tr>\n",
       "      <th>difOpenClose</th>\n",
       "      <td>110</td>\n",
       "      <td>-50</td>\n",
       "      <td>185</td>\n",
       "      <td>50</td>\n",
       "      <td>10</td>\n",
       "    </tr>\n",
       "    <tr>\n",
       "      <th>dojy</th>\n",
       "      <td>0</td>\n",
       "      <td>0</td>\n",
       "      <td>0</td>\n",
       "      <td>0</td>\n",
       "      <td>0</td>\n",
       "    </tr>\n",
       "    <tr>\n",
       "      <th>hammer</th>\n",
       "      <td>0</td>\n",
       "      <td>0</td>\n",
       "      <td>0</td>\n",
       "      <td>0</td>\n",
       "      <td>0</td>\n",
       "    </tr>\n",
       "    <tr>\n",
       "      <th>breakout</th>\n",
       "      <td>0</td>\n",
       "      <td>0</td>\n",
       "      <td>0</td>\n",
       "      <td>0</td>\n",
       "      <td>0</td>\n",
       "    </tr>\n",
       "    <tr>\n",
       "      <th>highGulf</th>\n",
       "      <td>0</td>\n",
       "      <td>0</td>\n",
       "      <td>0</td>\n",
       "      <td>0</td>\n",
       "      <td>0</td>\n",
       "    </tr>\n",
       "    <tr>\n",
       "      <th>lowGulf</th>\n",
       "      <td>0</td>\n",
       "      <td>0</td>\n",
       "      <td>0</td>\n",
       "      <td>0</td>\n",
       "      <td>0</td>\n",
       "    </tr>\n",
       "  </tbody>\n",
       "</table>\n",
       "</div>"
      ],
      "text/plain": [
       "buildDate     2019-11-13 19:24:59  2019-11-13 19:29:59  2019-11-13 19:34:59  \\\n",
       "status                          1                    1                    0   \n",
       "shortlong                       1                    1                    1   \n",
       "forceIndex                    100                  140                  140   \n",
       "trend2min                      90                  -50                  165   \n",
       "trend5min                     130                  100                  220   \n",
       "trend10min                    120                  155                  100   \n",
       "trend15min                     65                  255                  120   \n",
       "difCand5                      100                  140                  140   \n",
       "difOpenClose                  110                  -50                  185   \n",
       "dojy                            0                    0                    0   \n",
       "hammer                          0                    0                    0   \n",
       "breakout                        0                    0                    0   \n",
       "highGulf                        0                    0                    0   \n",
       "lowGulf                         0                    0                    0   \n",
       "\n",
       "buildDate     2019-11-13 19:44:59  2019-11-13 20:04:59  \n",
       "status                          0                    1  \n",
       "shortlong                       1                    1  \n",
       "forceIndex                     80                   95  \n",
       "trend2min                      20                   15  \n",
       "trend5min                      75                   30  \n",
       "trend10min                     80                   80  \n",
       "trend15min                    125                   30  \n",
       "difCand5                       80                   95  \n",
       "difOpenClose                   50                   10  \n",
       "dojy                            0                    0  \n",
       "hammer                          0                    0  \n",
       "breakout                        0                    0  \n",
       "highGulf                        0                    0  \n",
       "lowGulf                         0                    0  "
      ]
     },
     "execution_count": 11,
     "metadata": {},
     "output_type": "execute_result"
    }
   ],
   "source": [
    "df.tail().T"
   ]
  },
  {
   "cell_type": "code",
   "execution_count": 12,
   "metadata": {
    "ExecuteTime": {
     "end_time": "2019-12-11T18:50:45.401959Z",
     "start_time": "2019-12-11T18:50:45.308269Z"
    }
   },
   "outputs": [
    {
     "data": {
      "text/plain": [
       "count    4564.000000\n",
       "mean        0.756135\n",
       "std         0.429459\n",
       "min         0.000000\n",
       "25%         1.000000\n",
       "50%         1.000000\n",
       "75%         1.000000\n",
       "max         1.000000\n",
       "Name: status, dtype: float64"
      ]
     },
     "execution_count": 12,
     "metadata": {},
     "output_type": "execute_result"
    }
   ],
   "source": [
    "df.status.describe()"
   ]
  },
  {
   "cell_type": "code",
   "execution_count": 13,
   "metadata": {
    "ExecuteTime": {
     "end_time": "2019-12-11T18:50:45.609030Z",
     "start_time": "2019-12-11T18:50:45.528841Z"
    }
   },
   "outputs": [
    {
     "name": "stdout",
     "output_type": "stream",
     "text": [
      "[(0, 1113), (1, 3451)]\n"
     ]
    }
   ],
   "source": [
    "print(sorted(Counter(df.status).items()))"
   ]
  },
  {
   "cell_type": "code",
   "execution_count": 14,
   "metadata": {},
   "outputs": [],
   "source": [
    "def plot_heatmap(df):\n",
    "    plt.figure(figsize=(9, 9))\n",
    "    ax = sns.heatmap(df.corr(),\n",
    "                     vmin=-1,\n",
    "                     vmax=1,\n",
    "                     center=0,\n",
    "                     cmap=sns.diverging_palette(20, 220, n=200),\n",
    "                     square=True)\n",
    "    ax.set_title('Correlations')\n",
    "    ax.set_xticklabels(ax.get_xticklabels(),\n",
    "                       rotation=45,\n",
    "                       horizontalalignment='right')"
   ]
  },
  {
   "cell_type": "code",
   "execution_count": 15,
   "metadata": {
    "ExecuteTime": {
     "end_time": "2019-12-11T18:50:46.850640Z",
     "start_time": "2019-12-11T18:50:46.241835Z"
    }
   },
   "outputs": [
    {
     "data": {
      "image/png": "[encoded data removed]",
      "text/plain": [
       "<Figure size 648x648 with 2 Axes>"
      ]
     },
     "metadata": {
      "needs_background": "light"
     },
     "output_type": "display_data"
    }
   ],
   "source": [
    "plot_heatmap(df)"
   ]
  },
  {
   "cell_type": "code",
   "execution_count": 16,
   "metadata": {},
   "outputs": [
    {
     "data": {
      "text/plain": [
       "Index(['status', 'shortlong', 'forceIndex', 'trend2min', 'trend5min',\n",
       "       'trend10min', 'trend15min', 'difCand5', 'difOpenClose', 'dojy',\n",
       "       'hammer', 'breakout', 'highGulf', 'lowGulf'],\n",
       "      dtype='object')"
      ]
     },
     "execution_count": 16,
     "metadata": {},
     "output_type": "execute_result"
    }
   ],
   "source": [
    "df.columns"
   ]
  },
  {
   "cell_type": "code",
   "execution_count": 17,
   "metadata": {},
   "outputs": [],
   "source": [
    "df.drop(['dojy', 'hammer', 'breakout', 'highGulf', 'lowGulf'], axis=1, inplace=True)"
   ]
  },
  {
   "cell_type": "code",
   "execution_count": 18,
   "metadata": {},
   "outputs": [
    {
     "data": {
      "image/png": "[encoded data removed]",
      "text/plain": [
       "<Figure size 648x648 with 2 Axes>"
      ]
     },
     "metadata": {
      "needs_background": "light"
     },
     "output_type": "display_data"
    }
   ],
   "source": [
    "plot_heatmap(df)"
   ]
  },
  {
   "cell_type": "code",
   "execution_count": 19,
   "metadata": {},
   "outputs": [],
   "source": [
    "from imblearn.over_sampling import SMOTE, ADASYN, RandomOverSampler"
   ]
  },
  {
   "cell_type": "code",
   "execution_count": 20,
   "metadata": {},
   "outputs": [],
   "source": [
    "temp_X = df.drop('status', axis=1).values\n",
    "temp_y = df['status'].values"
   ]
  },
  {
   "cell_type": "code",
   "execution_count": 21,
   "metadata": {},
   "outputs": [
    {
     "name": "stdout",
     "output_type": "stream",
     "text": [
      "[(0, 3451), (1, 3451)]\n"
     ]
    }
   ],
   "source": [
    "ros = RandomOverSampler(random_state=0)\n",
    "X_resampled, y_resampled = ros.fit_resample(temp_X, temp_y)\n",
    "print(sorted(Counter(y_resampled).items()))"
   ]
  },
  {
   "cell_type": "code",
   "execution_count": 22,
   "metadata": {},
   "outputs": [],
   "source": [
    "X, y = X_resampled, y_resampled"
   ]
  },
  {
   "cell_type": "code",
   "execution_count": 23,
   "metadata": {
    "ExecuteTime": {
     "end_time": "2019-12-11T18:50:47.367691Z",
     "start_time": "2019-12-11T18:50:46.990146Z"
    }
   },
   "outputs": [],
   "source": [
    "from sklearn.preprocessing import StandardScaler\n",
    "from sklearn.model_selection import train_test_split, GridSearchCV\n",
    "from xgboost import XGBClassifier, plot_importance\n",
    "from sklearn.linear_model import LogisticRegression\n",
    "from sklearn.svm import SVC\n",
    "from sklearn.ensemble import RandomForestClassifier, AdaBoostClassifier\n",
    "from sklearn.tree import DecisionTreeClassifier\n",
    "from sklearn import metrics"
   ]
  },
  {
   "cell_type": "code",
   "execution_count": 35,
   "metadata": {
    "ExecuteTime": {
     "end_time": "2019-12-11T18:50:47.379421Z",
     "start_time": "2019-12-11T18:50:47.369648Z"
    }
   },
   "outputs": [],
   "source": [
    "X = StandardScaler().fit_transform(X)\n",
    "X_train, X_test, y_train, y_test = train_test_split(X, y, test_size=0.1)"
   ]
  },
  {
   "cell_type": "code",
   "execution_count": 25,
   "metadata": {
    "ExecuteTime": {
     "end_time": "2019-12-11T18:50:48.640631Z",
     "start_time": "2019-12-11T18:50:47.385711Z"
    }
   },
   "outputs": [
    {
     "name": "stdout",
     "output_type": "stream",
     "text": [
      "LogisticRegression accuracy: 51.81%\n",
      "\n",
      "SVM(Linear) accuracy: 52.1%\n",
      "\n",
      "SVM(RBF) accuracy: 54.85%\n",
      "\n",
      "DecisionTree accuracy: 85.09%\n",
      "\n",
      "RandomForest accuracy: 91.46%\n",
      "\n",
      "AdaBoost accuracy: 53.69%\n",
      "\n",
      "XGBoost accuracy: 63.39%\n",
      "\n"
     ]
    }
   ],
   "source": [
    "names = [\n",
    "    'LogisticRegression', 'SVM(Linear)', 'SVM(RBF)', 'DecisionTree', 'RandomForest', 'AdaBoost', 'XGBoost'\n",
    "]\n",
    "\n",
    "classifiers = [\n",
    "    LogisticRegression(),\n",
    "    SVC(kernel=\"linear\"),\n",
    "    SVC(),\n",
    "    DecisionTreeClassifier(),\n",
    "    RandomForestClassifier(),\n",
    "    AdaBoostClassifier(),\n",
    "    XGBClassifier()\n",
    "]\n",
    "\n",
    "# iterate over classifiers\n",
    "for name, clf in zip(names, classifiers):\n",
    "    clf.fit(X_train, y_train)\n",
    "    score = clf.score(X_test, y_test)\n",
    "    print(f'{name} accuracy: {round(score*100, 2)}%\\n')"
   ]
  },
  {
   "cell_type": "code",
   "execution_count": 26,
   "metadata": {},
   "outputs": [
    {
     "name": "stdout",
     "output_type": "stream",
     "text": [
      "CPU times: user 758 ms, sys: 2.95 ms, total: 761 ms\n",
      "Wall time: 771 ms\n"
     ]
    },
    {
     "data": {
      "text/plain": [
       "RandomForestClassifier(bootstrap=True, ccp_alpha=0.0, class_weight=None,\n",
       "                       criterion='gini', max_depth=None, max_features='auto',\n",
       "                       max_leaf_nodes=None, max_samples=None,\n",
       "                       min_impurity_decrease=0.0, min_impurity_split=None,\n",
       "                       min_samples_leaf=1, min_samples_split=2,\n",
       "                       min_weight_fraction_leaf=0.0, n_estimators=100,\n",
       "                       n_jobs=None, oob_score=False, random_state=None,\n",
       "                       verbose=0, warm_start=False)"
      ]
     },
     "execution_count": 26,
     "metadata": {},
     "output_type": "execute_result"
    }
   ],
   "source": [
    "rf_model = RandomForestClassifier()\n",
    "%time rf_model.fit(X_train, y_train)"
   ]
  },
  {
   "cell_type": "code",
   "execution_count": 27,
   "metadata": {},
   "outputs": [],
   "source": [
    "predictions = rf_model.predict(X_test)"
   ]
  },
  {
   "cell_type": "code",
   "execution_count": 28,
   "metadata": {},
   "outputs": [
    {
     "name": "stdout",
     "output_type": "stream",
     "text": [
      "Confusion matrix:\n",
      "[[345  11]\n",
      " [ 41 294]],       \n",
      "F1 score: 0.9187500000000001,       \n",
      "Precision: 0.9639344262295082,       \n",
      "Accuracy: 0.9247467438494935\n"
     ]
    }
   ],
   "source": [
    "print(f'Confusion matrix:\\n{metrics.confusion_matrix(y_test, predictions)}, \\\n",
    "      \\nF1 score: {metrics.f1_score(y_test, predictions)}, \\\n",
    "      \\nPrecision: {metrics.precision_score(y_test, predictions)}, \\\n",
    "      \\nAccuracy: {metrics.accuracy_score(y_test, predictions)}')"
   ]
  },
  {
   "cell_type": "code",
   "execution_count": 29,
   "metadata": {},
   "outputs": [
    {
     "data": {
      "image/png": "[encoded data removed]",
      "text/plain": [
       "<Figure size 792x432 with 1 Axes>"
      ]
     },
     "metadata": {
      "needs_background": "light"
     },
     "output_type": "display_data"
    }
   ],
   "source": [
    "feat_importances = pd.Series(rf_model.feature_importances_, \n",
    "                             index=['shortlong', 'forceIndex', 'trend2min', 'trend5min',\n",
    "                                    'trend10min', 'trend15min', 'difCand5', 'difOpenClose'])\n",
    "feat_importances.plot(kind='barh', figsize=(11,6))\n",
    "plt.show()"
   ]
  },
  {
   "cell_type": "markdown",
   "metadata": {},
   "source": [
    " "
   ]
  },
  {
   "cell_type": "code",
   "execution_count": 30,
   "metadata": {
    "ExecuteTime": {
     "end_time": "2019-12-11T18:50:52.145497Z",
     "start_time": "2019-12-11T18:50:50.813663Z"
    }
   },
   "outputs": [],
   "source": [
    "import tensorflow as tf"
   ]
  },
  {
   "cell_type": "code",
   "execution_count": 31,
   "metadata": {
    "ExecuteTime": {
     "end_time": "2019-12-11T18:50:52.174127Z",
     "start_time": "2019-12-11T18:50:52.147903Z"
    }
   },
   "outputs": [
    {
     "name": "stdout",
     "output_type": "stream",
     "text": [
      "6211 train samples with shape (6211, 8)\n",
      "345 test samples with shape (345, 8)\n",
      "346 val samples with shape (346, 8)\n"
     ]
    }
   ],
   "source": [
    "X = StandardScaler().fit_transform(X)\n",
    "X_train, X_test, Y_train, Y_test = train_test_split(X, y, test_size=0.1)\n",
    "\n",
    "batch_size = 100\n",
    "input_features = X_train.shape[1]\n",
    "num_classes = 2\n",
    "epochs = 100\n",
    "\n",
    "x_train = X_train.reshape(X_train.shape[0], X_train.shape[1])\n",
    "x_test = X_test.reshape(X_test.shape[0], X_test.shape[1])\n",
    "\n",
    "x_train = x_train.astype('float32')\n",
    "test_data = x_test.astype('float32')\n",
    "test_targets = Y_test\n",
    "\n",
    "x_test = test_data[:int(len(test_data) * 0.5)]\n",
    "y_test = test_targets[:int(len(test_targets) * 0.5)]\n",
    "\n",
    "x_val = test_data[int(len(test_data) * 0.5):]\n",
    "y_val = test_targets[int(len(test_targets) * 0.5):]\n",
    "\n",
    "print(f'{x_train.shape[0]} train samples with shape {x_train.shape}')\n",
    "print(f'{x_test.shape[0]} test samples with shape {x_test.shape}')\n",
    "print(f'{x_val.shape[0]} val samples with shape {x_val.shape}')\n",
    "\n",
    "# convert class vectors to binary class matrices\n",
    "y_train = tf.keras.utils.to_categorical(Y_train)\n",
    "y_test = tf.keras.utils.to_categorical(y_test)\n",
    "y_val = tf.keras.utils.to_categorical(y_val)"
   ]
  },
  {
   "cell_type": "code",
   "execution_count": 32,
   "metadata": {
    "ExecuteTime": {
     "end_time": "2019-12-11T18:50:52.506216Z",
     "start_time": "2019-12-11T18:50:52.176774Z"
    }
   },
   "outputs": [
    {
     "name": "stdout",
     "output_type": "stream",
     "text": [
      "Model: \"sequential\"\n",
      "_________________________________________________________________\n",
      "Layer (type)                 Output Shape              Param #   \n",
      "=================================================================\n",
      "dense (Dense)                (None, 200)               1800      \n",
      "_________________________________________________________________\n",
      "dropout (Dropout)            (None, 200)               0         \n",
      "_________________________________________________________________\n",
      "dense_1 (Dense)              (None, 200)               40200     \n",
      "_________________________________________________________________\n",
      "dropout_1 (Dropout)          (None, 200)               0         \n",
      "_________________________________________________________________\n",
      "dense_2 (Dense)              (None, 2)                 402       \n",
      "=================================================================\n",
      "Total params: 42,402\n",
      "Trainable params: 42,402\n",
      "Non-trainable params: 0\n",
      "_________________________________________________________________\n"
     ]
    }
   ],
   "source": [
    "try:\n",
    "    if model:\n",
    "        del model\n",
    "except NameError:\n",
    "    pass\n",
    "\n",
    "model = tf.keras.models.Sequential([\n",
    "    tf.keras.layers.Dense(200,\n",
    "                          activation='relu',\n",
    "                          input_shape=(input_features, )),\n",
    "    tf.keras.layers.Dropout(0.3),\n",
    "    tf.keras.layers.Dense(200, activation='relu'),\n",
    "    tf.keras.layers.Dropout(0.3),\n",
    "    tf.keras.layers.Dense(num_classes, activation='softmax')\n",
    "])\n",
    "\n",
    "model.compile(loss='categorical_crossentropy',\n",
    "              optimizer=tf.keras.optimizers.SGD(learning_rate=0.0009, momentum=0.9),\n",
    "              metrics=[tf.metrics.Precision()])\n",
    "\n",
    "model.summary()"
   ]
  },
  {
   "cell_type": "code",
   "execution_count": 33,
   "metadata": {
    "ExecuteTime": {
     "end_time": "2019-12-11T18:50:53.904587Z",
     "start_time": "2019-12-11T18:50:52.508420Z"
    },
    "scrolled": true
   },
   "outputs": [
    {
     "name": "stdout",
     "output_type": "stream",
     "text": [
      "Train on 6211 samples, validate on 346 samples\n",
      "Epoch 1/100\n",
      "6211/6211 - 1s - loss: 0.7065 - precision: 0.5052 - val_loss: 0.6789 - val_precision: 0.5636\n",
      "Epoch 2/100\n",
      "6211/6211 - 0s - loss: 0.6998 - precision: 0.4978 - val_loss: 0.6816 - val_precision: 0.5694\n",
      "CPU times: user 1.73 s, sys: 194 ms, total: 1.93 s\n",
      "Wall time: 2 s\n"
     ]
    }
   ],
   "source": [
    "%%time\n",
    "history = model.fit(x_train,\n",
    "                    y_train,\n",
    "                    batch_size=batch_size,\n",
    "                    epochs=epochs,\n",
    "                    verbose=2,\n",
    "                    callbacks=[tf.keras.callbacks.EarlyStopping()],\n",
    "                    validation_data=(x_val, y_val))"
   ]
  },
  {
   "cell_type": "code",
   "execution_count": 34,
   "metadata": {
    "ExecuteTime": {
     "end_time": "2019-12-11T18:50:54.381541Z",
     "start_time": "2019-12-11T18:50:53.907080Z"
    }
   },
   "outputs": [
    {
     "name": "stdout",
     "output_type": "stream",
     "text": [
      "Test loss: 0.6896881580352783\n",
      "Test Precision: 0.53913045\n"
     ]
    },
    {
     "data": {
      "image/png": "[encoded data removed]",
      "text/plain": [
       "<Figure size 1152x432 with 1 Axes>"
      ]
     },
     "metadata": {
      "needs_background": "light"
     },
     "output_type": "display_data"
    }
   ],
   "source": [
    "score = model.evaluate(x_test, y_test, verbose=0)\n",
    "print('Test loss:', score[0])\n",
    "print('Test Precision:', score[1])\n",
    "\n",
    "plt.figure(figsize=(16, 6))\n",
    "plt.plot(history.history['loss'], label='train_loss')\n",
    "plt.plot(history.history['val_loss'], label='val_loss')\n",
    "plt.title('Train_loss Vs Validation_loss')\n",
    "plt.legend(loc='best')\n",
    "plt.show()"
   ]
  }
 ],
 "metadata": {
  "kernelspec": {
   "display_name": "Python 3",
   "language": "python",
   "name": "python3"
  },
  "language_info": {
   "codemirror_mode": {
    "name": "ipython",
    "version": 3
   },
   "file_extension": ".py",
   "mimetype": "text/x-python",
   "name": "python",
   "nbconvert_exporter": "python",
   "pygments_lexer": "ipython3",
   "version": "3.7.3"
  }
 },
 "nbformat": 4,
 "nbformat_minor": 2
}
