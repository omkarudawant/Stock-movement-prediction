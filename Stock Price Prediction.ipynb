{
 "cells": [
  {
   "cell_type": "code",
   "execution_count": 1,
   "metadata": {
    "ExecuteTime": {
     "end_time": "2019-12-02T19:13:50.894250Z",
     "start_time": "2019-12-02T19:13:49.869209Z"
    }
   },
   "outputs": [],
   "source": [
    "from warnings import filterwarnings\n",
    "filterwarnings('ignore')\n",
    "from sklearn.preprocessing import OneHotEncoder\n",
    "%matplotlib inline \n",
    "\n",
    "import pandas as pd\n",
    "import numpy as np\n",
    "import os\n",
    "import matplotlib.pyplot as plt\n",
    "import seaborn as sns \n",
    "sns.set_style('darkgrid')"
   ]
  },
  {
   "cell_type": "code",
   "execution_count": 2,
   "metadata": {
    "ExecuteTime": {
     "end_time": "2019-12-02T19:13:50.932558Z",
     "start_time": "2019-12-02T19:13:50.897063Z"
    }
   },
   "outputs": [
    {
     "data": {
      "text/html": [
       "<div>\n",
       "<style scoped>\n",
       "    .dataframe tbody tr th:only-of-type {\n",
       "        vertical-align: middle;\n",
       "    }\n",
       "\n",
       "    .dataframe tbody tr th {\n",
       "        vertical-align: top;\n",
       "    }\n",
       "\n",
       "    .dataframe thead th {\n",
       "        text-align: right;\n",
       "    }\n",
       "</style>\n",
       "<table border=\"1\" class=\"dataframe\">\n",
       "  <thead>\n",
       "    <tr style=\"text-align: right;\">\n",
       "      <th></th>\n",
       "      <th>status</th>\n",
       "      <th>shortlong</th>\n",
       "      <th>forceIndex</th>\n",
       "      <th>trend2min</th>\n",
       "      <th>trend5min</th>\n",
       "      <th>trend10min</th>\n",
       "      <th>trend15min</th>\n",
       "      <th>difCand5</th>\n",
       "      <th>buildDate</th>\n",
       "      <th>difOpenClose</th>\n",
       "      <th>dojy</th>\n",
       "      <th>hammer</th>\n",
       "      <th>breakout</th>\n",
       "      <th>highGulf</th>\n",
       "      <th>lowGulf</th>\n",
       "    </tr>\n",
       "  </thead>\n",
       "  <tbody>\n",
       "    <tr>\n",
       "      <th>4570</th>\n",
       "      <td>GAIN</td>\n",
       "      <td>COMPRADO</td>\n",
       "      <td>100</td>\n",
       "      <td>90</td>\n",
       "      <td>130</td>\n",
       "      <td>120</td>\n",
       "      <td>65</td>\n",
       "      <td>100</td>\n",
       "      <td>1573673099000</td>\n",
       "      <td>110</td>\n",
       "      <td>False</td>\n",
       "      <td>False</td>\n",
       "      <td>False</td>\n",
       "      <td>False</td>\n",
       "      <td>False</td>\n",
       "    </tr>\n",
       "    <tr>\n",
       "      <th>4571</th>\n",
       "      <td>GAIN</td>\n",
       "      <td>COMPRADO</td>\n",
       "      <td>140</td>\n",
       "      <td>-50</td>\n",
       "      <td>100</td>\n",
       "      <td>155</td>\n",
       "      <td>255</td>\n",
       "      <td>140</td>\n",
       "      <td>1573673399000</td>\n",
       "      <td>-50</td>\n",
       "      <td>False</td>\n",
       "      <td>False</td>\n",
       "      <td>False</td>\n",
       "      <td>False</td>\n",
       "      <td>False</td>\n",
       "    </tr>\n",
       "    <tr>\n",
       "      <th>4572</th>\n",
       "      <td>LOSS</td>\n",
       "      <td>COMPRADO</td>\n",
       "      <td>140</td>\n",
       "      <td>165</td>\n",
       "      <td>220</td>\n",
       "      <td>100</td>\n",
       "      <td>120</td>\n",
       "      <td>140</td>\n",
       "      <td>1573673699000</td>\n",
       "      <td>185</td>\n",
       "      <td>False</td>\n",
       "      <td>False</td>\n",
       "      <td>False</td>\n",
       "      <td>False</td>\n",
       "      <td>False</td>\n",
       "    </tr>\n",
       "    <tr>\n",
       "      <th>4573</th>\n",
       "      <td>LOSS</td>\n",
       "      <td>COMPRADO</td>\n",
       "      <td>80</td>\n",
       "      <td>20</td>\n",
       "      <td>75</td>\n",
       "      <td>80</td>\n",
       "      <td>125</td>\n",
       "      <td>80</td>\n",
       "      <td>1573674299000</td>\n",
       "      <td>50</td>\n",
       "      <td>False</td>\n",
       "      <td>False</td>\n",
       "      <td>False</td>\n",
       "      <td>False</td>\n",
       "      <td>False</td>\n",
       "    </tr>\n",
       "    <tr>\n",
       "      <th>4574</th>\n",
       "      <td>GAIN</td>\n",
       "      <td>COMPRADO</td>\n",
       "      <td>95</td>\n",
       "      <td>15</td>\n",
       "      <td>30</td>\n",
       "      <td>80</td>\n",
       "      <td>30</td>\n",
       "      <td>95</td>\n",
       "      <td>1573675499000</td>\n",
       "      <td>10</td>\n",
       "      <td>False</td>\n",
       "      <td>False</td>\n",
       "      <td>False</td>\n",
       "      <td>False</td>\n",
       "      <td>False</td>\n",
       "    </tr>\n",
       "  </tbody>\n",
       "</table>\n",
       "</div>"
      ],
      "text/plain": [
       "     status shortlong  forceIndex  trend2min  trend5min  trend10min  \\\n",
       "4570   GAIN  COMPRADO         100         90        130         120   \n",
       "4571   GAIN  COMPRADO         140        -50        100         155   \n",
       "4572   LOSS  COMPRADO         140        165        220         100   \n",
       "4573   LOSS  COMPRADO          80         20         75          80   \n",
       "4574   GAIN  COMPRADO          95         15         30          80   \n",
       "\n",
       "      trend15min  difCand5      buildDate  difOpenClose   dojy  hammer  \\\n",
       "4570          65       100  1573673099000           110  False   False   \n",
       "4571         255       140  1573673399000           -50  False   False   \n",
       "4572         120       140  1573673699000           185  False   False   \n",
       "4573         125        80  1573674299000            50  False   False   \n",
       "4574          30        95  1573675499000            10  False   False   \n",
       "\n",
       "      breakout  highGulf  lowGulf  \n",
       "4570     False     False    False  \n",
       "4571     False     False    False  \n",
       "4572     False     False    False  \n",
       "4573     False     False    False  \n",
       "4574     False     False    False  "
      ]
     },
     "execution_count": 2,
     "metadata": {},
     "output_type": "execute_result"
    }
   ],
   "source": [
    "df = pd.read_csv('ML_Input_Model_Train.csv', delimiter=';')\n",
    "df.tail()"
   ]
  },
  {
   "cell_type": "code",
   "execution_count": 3,
   "metadata": {
    "ExecuteTime": {
     "end_time": "2019-12-02T19:13:51.026552Z",
     "start_time": "2019-12-02T19:13:50.934989Z"
    }
   },
   "outputs": [
    {
     "name": "stdout",
     "output_type": "stream",
     "text": [
      "2\n",
      "4575\n"
     ]
    }
   ],
   "source": [
    "print(len(df['shortlong'].unique()))\n",
    "print(len(df['buildDate'].unique()))"
   ]
  },
  {
   "cell_type": "code",
   "execution_count": 4,
   "metadata": {
    "ExecuteTime": {
     "end_time": "2019-12-02T19:13:51.137263Z",
     "start_time": "2019-12-02T19:13:51.031455Z"
    }
   },
   "outputs": [
    {
     "data": {
      "text/html": [
       "<div>\n",
       "<style scoped>\n",
       "    .dataframe tbody tr th:only-of-type {\n",
       "        vertical-align: middle;\n",
       "    }\n",
       "\n",
       "    .dataframe tbody tr th {\n",
       "        vertical-align: top;\n",
       "    }\n",
       "\n",
       "    .dataframe thead th {\n",
       "        text-align: right;\n",
       "    }\n",
       "</style>\n",
       "<table border=\"1\" class=\"dataframe\">\n",
       "  <thead>\n",
       "    <tr style=\"text-align: right;\">\n",
       "      <th></th>\n",
       "      <th>status</th>\n",
       "      <th>shortlong</th>\n",
       "      <th>forceIndex</th>\n",
       "      <th>trend2min</th>\n",
       "      <th>trend5min</th>\n",
       "      <th>trend10min</th>\n",
       "      <th>trend15min</th>\n",
       "      <th>difCand5</th>\n",
       "      <th>difOpenClose</th>\n",
       "      <th>dojy</th>\n",
       "      <th>hammer</th>\n",
       "      <th>breakout</th>\n",
       "      <th>highGulf</th>\n",
       "      <th>lowGulf</th>\n",
       "    </tr>\n",
       "  </thead>\n",
       "  <tbody>\n",
       "    <tr>\n",
       "      <th>4570</th>\n",
       "      <td>GAIN</td>\n",
       "      <td>COMPRADO</td>\n",
       "      <td>100</td>\n",
       "      <td>90</td>\n",
       "      <td>130</td>\n",
       "      <td>120</td>\n",
       "      <td>65</td>\n",
       "      <td>100</td>\n",
       "      <td>110</td>\n",
       "      <td>False</td>\n",
       "      <td>False</td>\n",
       "      <td>False</td>\n",
       "      <td>False</td>\n",
       "      <td>False</td>\n",
       "    </tr>\n",
       "    <tr>\n",
       "      <th>4571</th>\n",
       "      <td>GAIN</td>\n",
       "      <td>COMPRADO</td>\n",
       "      <td>140</td>\n",
       "      <td>-50</td>\n",
       "      <td>100</td>\n",
       "      <td>155</td>\n",
       "      <td>255</td>\n",
       "      <td>140</td>\n",
       "      <td>-50</td>\n",
       "      <td>False</td>\n",
       "      <td>False</td>\n",
       "      <td>False</td>\n",
       "      <td>False</td>\n",
       "      <td>False</td>\n",
       "    </tr>\n",
       "    <tr>\n",
       "      <th>4572</th>\n",
       "      <td>LOSS</td>\n",
       "      <td>COMPRADO</td>\n",
       "      <td>140</td>\n",
       "      <td>165</td>\n",
       "      <td>220</td>\n",
       "      <td>100</td>\n",
       "      <td>120</td>\n",
       "      <td>140</td>\n",
       "      <td>185</td>\n",
       "      <td>False</td>\n",
       "      <td>False</td>\n",
       "      <td>False</td>\n",
       "      <td>False</td>\n",
       "      <td>False</td>\n",
       "    </tr>\n",
       "    <tr>\n",
       "      <th>4573</th>\n",
       "      <td>LOSS</td>\n",
       "      <td>COMPRADO</td>\n",
       "      <td>80</td>\n",
       "      <td>20</td>\n",
       "      <td>75</td>\n",
       "      <td>80</td>\n",
       "      <td>125</td>\n",
       "      <td>80</td>\n",
       "      <td>50</td>\n",
       "      <td>False</td>\n",
       "      <td>False</td>\n",
       "      <td>False</td>\n",
       "      <td>False</td>\n",
       "      <td>False</td>\n",
       "    </tr>\n",
       "    <tr>\n",
       "      <th>4574</th>\n",
       "      <td>GAIN</td>\n",
       "      <td>COMPRADO</td>\n",
       "      <td>95</td>\n",
       "      <td>15</td>\n",
       "      <td>30</td>\n",
       "      <td>80</td>\n",
       "      <td>30</td>\n",
       "      <td>95</td>\n",
       "      <td>10</td>\n",
       "      <td>False</td>\n",
       "      <td>False</td>\n",
       "      <td>False</td>\n",
       "      <td>False</td>\n",
       "      <td>False</td>\n",
       "    </tr>\n",
       "  </tbody>\n",
       "</table>\n",
       "</div>"
      ],
      "text/plain": [
       "     status shortlong  forceIndex  trend2min  trend5min  trend10min  \\\n",
       "4570   GAIN  COMPRADO         100         90        130         120   \n",
       "4571   GAIN  COMPRADO         140        -50        100         155   \n",
       "4572   LOSS  COMPRADO         140        165        220         100   \n",
       "4573   LOSS  COMPRADO          80         20         75          80   \n",
       "4574   GAIN  COMPRADO          95         15         30          80   \n",
       "\n",
       "      trend15min  difCand5  difOpenClose   dojy  hammer  breakout  highGulf  \\\n",
       "4570          65       100           110  False   False     False     False   \n",
       "4571         255       140           -50  False   False     False     False   \n",
       "4572         120       140           185  False   False     False     False   \n",
       "4573         125        80            50  False   False     False     False   \n",
       "4574          30        95            10  False   False     False     False   \n",
       "\n",
       "      lowGulf  \n",
       "4570    False  \n",
       "4571    False  \n",
       "4572    False  \n",
       "4573    False  \n",
       "4574    False  "
      ]
     },
     "execution_count": 4,
     "metadata": {},
     "output_type": "execute_result"
    }
   ],
   "source": [
    "df.drop('buildDate', axis=1, inplace=True)\n",
    "df.tail()"
   ]
  },
  {
   "cell_type": "code",
   "execution_count": 5,
   "metadata": {
    "ExecuteTime": {
     "end_time": "2019-12-02T19:13:51.246638Z",
     "start_time": "2019-12-02T19:13:51.140021Z"
    }
   },
   "outputs": [
    {
     "data": {
      "text/plain": [
       "Index(['status', 'shortlong', 'forceIndex', 'trend2min', 'trend5min',\n",
       "       'trend10min', 'trend15min', 'difCand5', 'difOpenClose', 'dojy',\n",
       "       'hammer', 'breakout', 'highGulf', 'lowGulf'],\n",
       "      dtype='object')"
      ]
     },
     "execution_count": 5,
     "metadata": {},
     "output_type": "execute_result"
    }
   ],
   "source": [
    "df.columns"
   ]
  },
  {
   "cell_type": "code",
   "execution_count": 6,
   "metadata": {
    "ExecuteTime": {
     "end_time": "2019-12-02T19:13:51.359778Z",
     "start_time": "2019-12-02T19:13:51.251258Z"
    }
   },
   "outputs": [],
   "source": [
    "df['dojy'] = df['dojy'].astype('int')\n",
    "df['hammer'] = df['hammer'].astype('int')\n",
    "df['breakout'] = df['breakout'].astype('int') \n",
    "df['highGulf'] = df['highGulf'].astype('int') \n",
    "df['lowGulf'] = df['lowGulf'].astype('int')"
   ]
  },
  {
   "cell_type": "code",
   "execution_count": 7,
   "metadata": {},
   "outputs": [
    {
     "data": {
      "text/html": [
       "<div>\n",
       "<style scoped>\n",
       "    .dataframe tbody tr th:only-of-type {\n",
       "        vertical-align: middle;\n",
       "    }\n",
       "\n",
       "    .dataframe tbody tr th {\n",
       "        vertical-align: top;\n",
       "    }\n",
       "\n",
       "    .dataframe thead th {\n",
       "        text-align: right;\n",
       "    }\n",
       "</style>\n",
       "<table border=\"1\" class=\"dataframe\">\n",
       "  <thead>\n",
       "    <tr style=\"text-align: right;\">\n",
       "      <th></th>\n",
       "      <th>status</th>\n",
       "      <th>shortlong</th>\n",
       "      <th>forceIndex</th>\n",
       "      <th>trend2min</th>\n",
       "      <th>trend5min</th>\n",
       "      <th>trend10min</th>\n",
       "      <th>trend15min</th>\n",
       "      <th>difCand5</th>\n",
       "      <th>difOpenClose</th>\n",
       "      <th>dojy</th>\n",
       "      <th>hammer</th>\n",
       "      <th>breakout</th>\n",
       "      <th>highGulf</th>\n",
       "      <th>lowGulf</th>\n",
       "    </tr>\n",
       "  </thead>\n",
       "  <tbody>\n",
       "    <tr>\n",
       "      <th>4570</th>\n",
       "      <td>GAIN</td>\n",
       "      <td>COMPRADO</td>\n",
       "      <td>100</td>\n",
       "      <td>90</td>\n",
       "      <td>130</td>\n",
       "      <td>120</td>\n",
       "      <td>65</td>\n",
       "      <td>100</td>\n",
       "      <td>110</td>\n",
       "      <td>0</td>\n",
       "      <td>0</td>\n",
       "      <td>0</td>\n",
       "      <td>0</td>\n",
       "      <td>0</td>\n",
       "    </tr>\n",
       "    <tr>\n",
       "      <th>4571</th>\n",
       "      <td>GAIN</td>\n",
       "      <td>COMPRADO</td>\n",
       "      <td>140</td>\n",
       "      <td>-50</td>\n",
       "      <td>100</td>\n",
       "      <td>155</td>\n",
       "      <td>255</td>\n",
       "      <td>140</td>\n",
       "      <td>-50</td>\n",
       "      <td>0</td>\n",
       "      <td>0</td>\n",
       "      <td>0</td>\n",
       "      <td>0</td>\n",
       "      <td>0</td>\n",
       "    </tr>\n",
       "    <tr>\n",
       "      <th>4572</th>\n",
       "      <td>LOSS</td>\n",
       "      <td>COMPRADO</td>\n",
       "      <td>140</td>\n",
       "      <td>165</td>\n",
       "      <td>220</td>\n",
       "      <td>100</td>\n",
       "      <td>120</td>\n",
       "      <td>140</td>\n",
       "      <td>185</td>\n",
       "      <td>0</td>\n",
       "      <td>0</td>\n",
       "      <td>0</td>\n",
       "      <td>0</td>\n",
       "      <td>0</td>\n",
       "    </tr>\n",
       "    <tr>\n",
       "      <th>4573</th>\n",
       "      <td>LOSS</td>\n",
       "      <td>COMPRADO</td>\n",
       "      <td>80</td>\n",
       "      <td>20</td>\n",
       "      <td>75</td>\n",
       "      <td>80</td>\n",
       "      <td>125</td>\n",
       "      <td>80</td>\n",
       "      <td>50</td>\n",
       "      <td>0</td>\n",
       "      <td>0</td>\n",
       "      <td>0</td>\n",
       "      <td>0</td>\n",
       "      <td>0</td>\n",
       "    </tr>\n",
       "    <tr>\n",
       "      <th>4574</th>\n",
       "      <td>GAIN</td>\n",
       "      <td>COMPRADO</td>\n",
       "      <td>95</td>\n",
       "      <td>15</td>\n",
       "      <td>30</td>\n",
       "      <td>80</td>\n",
       "      <td>30</td>\n",
       "      <td>95</td>\n",
       "      <td>10</td>\n",
       "      <td>0</td>\n",
       "      <td>0</td>\n",
       "      <td>0</td>\n",
       "      <td>0</td>\n",
       "      <td>0</td>\n",
       "    </tr>\n",
       "  </tbody>\n",
       "</table>\n",
       "</div>"
      ],
      "text/plain": [
       "     status shortlong  forceIndex  trend2min  trend5min  trend10min  \\\n",
       "4570   GAIN  COMPRADO         100         90        130         120   \n",
       "4571   GAIN  COMPRADO         140        -50        100         155   \n",
       "4572   LOSS  COMPRADO         140        165        220         100   \n",
       "4573   LOSS  COMPRADO          80         20         75          80   \n",
       "4574   GAIN  COMPRADO          95         15         30          80   \n",
       "\n",
       "      trend15min  difCand5  difOpenClose  dojy  hammer  breakout  highGulf  \\\n",
       "4570          65       100           110     0       0         0         0   \n",
       "4571         255       140           -50     0       0         0         0   \n",
       "4572         120       140           185     0       0         0         0   \n",
       "4573         125        80            50     0       0         0         0   \n",
       "4574          30        95            10     0       0         0         0   \n",
       "\n",
       "      lowGulf  \n",
       "4570        0  \n",
       "4571        0  \n",
       "4572        0  \n",
       "4573        0  \n",
       "4574        0  "
      ]
     },
     "execution_count": 7,
     "metadata": {},
     "output_type": "execute_result"
    }
   ],
   "source": [
    "df.tail()"
   ]
  },
  {
   "cell_type": "code",
   "execution_count": 8,
   "metadata": {},
   "outputs": [
    {
     "name": "stdout",
     "output_type": "stream",
     "text": [
      "['GAIN' 'LOSS' 'COMPRADO' 'VENDIDO']\n",
      "['VENDIDO' 'COMPRADO']\n"
     ]
    }
   ],
   "source": [
    "print(df['status'].unique())\n",
    "print(df['shortlong'].unique())"
   ]
  },
  {
   "cell_type": "code",
   "execution_count": 9,
   "metadata": {
    "ExecuteTime": {
     "end_time": "2019-12-02T19:13:51.462806Z",
     "start_time": "2019-12-02T19:13:51.362637Z"
    }
   },
   "outputs": [],
   "source": [
    "df.drop(df[df['status'] == 'COMPRADO'].index, inplace=True)\n",
    "df.drop(df[df['status'] == 'VENDIDO'].index, inplace=True)\n",
    "\n",
    "df['status'].replace(to_replace='GAIN', value=1, inplace=True)\n",
    "df['status'].replace(to_replace='LOSS', value=0, inplace=True)\n",
    "\n",
    "df['shortlong'].replace(to_replace='COMPRADO', value=1, inplace=True)\n",
    "df['shortlong'].replace(to_replace='VENDIDO', value=0, inplace=True)"
   ]
  },
  {
   "cell_type": "code",
   "execution_count": 10,
   "metadata": {},
   "outputs": [
    {
     "data": {
      "text/html": [
       "<div>\n",
       "<style scoped>\n",
       "    .dataframe tbody tr th:only-of-type {\n",
       "        vertical-align: middle;\n",
       "    }\n",
       "\n",
       "    .dataframe tbody tr th {\n",
       "        vertical-align: top;\n",
       "    }\n",
       "\n",
       "    .dataframe thead th {\n",
       "        text-align: right;\n",
       "    }\n",
       "</style>\n",
       "<table border=\"1\" class=\"dataframe\">\n",
       "  <thead>\n",
       "    <tr style=\"text-align: right;\">\n",
       "      <th></th>\n",
       "      <th>status</th>\n",
       "      <th>shortlong</th>\n",
       "      <th>forceIndex</th>\n",
       "      <th>trend2min</th>\n",
       "      <th>trend5min</th>\n",
       "      <th>trend10min</th>\n",
       "      <th>trend15min</th>\n",
       "      <th>difCand5</th>\n",
       "      <th>difOpenClose</th>\n",
       "      <th>dojy</th>\n",
       "      <th>hammer</th>\n",
       "      <th>breakout</th>\n",
       "      <th>highGulf</th>\n",
       "      <th>lowGulf</th>\n",
       "    </tr>\n",
       "  </thead>\n",
       "  <tbody>\n",
       "    <tr>\n",
       "      <th>4570</th>\n",
       "      <td>1</td>\n",
       "      <td>1</td>\n",
       "      <td>100</td>\n",
       "      <td>90</td>\n",
       "      <td>130</td>\n",
       "      <td>120</td>\n",
       "      <td>65</td>\n",
       "      <td>100</td>\n",
       "      <td>110</td>\n",
       "      <td>0</td>\n",
       "      <td>0</td>\n",
       "      <td>0</td>\n",
       "      <td>0</td>\n",
       "      <td>0</td>\n",
       "    </tr>\n",
       "    <tr>\n",
       "      <th>4571</th>\n",
       "      <td>1</td>\n",
       "      <td>1</td>\n",
       "      <td>140</td>\n",
       "      <td>-50</td>\n",
       "      <td>100</td>\n",
       "      <td>155</td>\n",
       "      <td>255</td>\n",
       "      <td>140</td>\n",
       "      <td>-50</td>\n",
       "      <td>0</td>\n",
       "      <td>0</td>\n",
       "      <td>0</td>\n",
       "      <td>0</td>\n",
       "      <td>0</td>\n",
       "    </tr>\n",
       "    <tr>\n",
       "      <th>4572</th>\n",
       "      <td>0</td>\n",
       "      <td>1</td>\n",
       "      <td>140</td>\n",
       "      <td>165</td>\n",
       "      <td>220</td>\n",
       "      <td>100</td>\n",
       "      <td>120</td>\n",
       "      <td>140</td>\n",
       "      <td>185</td>\n",
       "      <td>0</td>\n",
       "      <td>0</td>\n",
       "      <td>0</td>\n",
       "      <td>0</td>\n",
       "      <td>0</td>\n",
       "    </tr>\n",
       "    <tr>\n",
       "      <th>4573</th>\n",
       "      <td>0</td>\n",
       "      <td>1</td>\n",
       "      <td>80</td>\n",
       "      <td>20</td>\n",
       "      <td>75</td>\n",
       "      <td>80</td>\n",
       "      <td>125</td>\n",
       "      <td>80</td>\n",
       "      <td>50</td>\n",
       "      <td>0</td>\n",
       "      <td>0</td>\n",
       "      <td>0</td>\n",
       "      <td>0</td>\n",
       "      <td>0</td>\n",
       "    </tr>\n",
       "    <tr>\n",
       "      <th>4574</th>\n",
       "      <td>1</td>\n",
       "      <td>1</td>\n",
       "      <td>95</td>\n",
       "      <td>15</td>\n",
       "      <td>30</td>\n",
       "      <td>80</td>\n",
       "      <td>30</td>\n",
       "      <td>95</td>\n",
       "      <td>10</td>\n",
       "      <td>0</td>\n",
       "      <td>0</td>\n",
       "      <td>0</td>\n",
       "      <td>0</td>\n",
       "      <td>0</td>\n",
       "    </tr>\n",
       "  </tbody>\n",
       "</table>\n",
       "</div>"
      ],
      "text/plain": [
       "      status  shortlong  forceIndex  trend2min  trend5min  trend10min  \\\n",
       "4570       1          1         100         90        130         120   \n",
       "4571       1          1         140        -50        100         155   \n",
       "4572       0          1         140        165        220         100   \n",
       "4573       0          1          80         20         75          80   \n",
       "4574       1          1          95         15         30          80   \n",
       "\n",
       "      trend15min  difCand5  difOpenClose  dojy  hammer  breakout  highGulf  \\\n",
       "4570          65       100           110     0       0         0         0   \n",
       "4571         255       140           -50     0       0         0         0   \n",
       "4572         120       140           185     0       0         0         0   \n",
       "4573         125        80            50     0       0         0         0   \n",
       "4574          30        95            10     0       0         0         0   \n",
       "\n",
       "      lowGulf  \n",
       "4570        0  \n",
       "4571        0  \n",
       "4572        0  \n",
       "4573        0  \n",
       "4574        0  "
      ]
     },
     "execution_count": 10,
     "metadata": {},
     "output_type": "execute_result"
    }
   ],
   "source": [
    "df.tail()"
   ]
  },
  {
   "cell_type": "code",
   "execution_count": 11,
   "metadata": {
    "ExecuteTime": {
     "end_time": "2019-12-02T19:21:33.742197Z",
     "start_time": "2019-12-02T19:21:33.730518Z"
    }
   },
   "outputs": [],
   "source": [
    "X = df.drop('status', axis=1).values\n",
    "y = df['status'].values"
   ]
  },
  {
   "cell_type": "code",
   "execution_count": 12,
   "metadata": {},
   "outputs": [
    {
     "name": "stdout",
     "output_type": "stream",
     "text": [
      "[[   0   95  -45  -75 -120  -60  -95  -50    0    0    0    0    0]\n",
      " [   0  130   15   10   60  -65 -130    0    1    0    0    0    0]\n",
      " [   0  105  -60  -15   -5  -85 -105  -60    0    0    0    0    0]\n",
      " [   1   85  -40  -10   15   75   85  -25    0    0    0    0    0]\n",
      " [   0  120 -125 -175 -140 -185 -120 -100    0    0    0    0    0]] [1 1 0 1 1]\n"
     ]
    }
   ],
   "source": [
    "print(X[:5], y[:5])"
   ]
  },
  {
   "cell_type": "code",
   "execution_count": 13,
   "metadata": {
    "ExecuteTime": {
     "end_time": "2019-12-02T19:19:25.169646Z",
     "start_time": "2019-12-02T19:19:25.162346Z"
    }
   },
   "outputs": [],
   "source": [
    "from sklearn.preprocessing import StandardScaler\n",
    "from sklearn.model_selection import train_test_split\n",
    "from xgboost import XGBClassifier\n",
    "from sklearn.linear_model import LogisticRegression\n",
    "from sklearn.svm import SVC\n",
    "from sklearn.ensemble import RandomForestClassifier, AdaBoostClassifier\n",
    "from sklearn.tree import DecisionTreeClassifier"
   ]
  },
  {
   "cell_type": "code",
   "execution_count": 14,
   "metadata": {
    "ExecuteTime": {
     "end_time": "2019-12-02T19:21:54.557321Z",
     "start_time": "2019-12-02T19:21:54.551249Z"
    }
   },
   "outputs": [],
   "source": [
    "X = StandardScaler().fit_transform(X)"
   ]
  },
  {
   "cell_type": "code",
   "execution_count": 15,
   "metadata": {
    "ExecuteTime": {
     "end_time": "2019-12-02T19:21:55.786240Z",
     "start_time": "2019-12-02T19:21:55.780935Z"
    }
   },
   "outputs": [],
   "source": [
    "X_train, X_test, y_train, y_test = train_test_split(X,\n",
    "                                                    y,\n",
    "                                                    test_size=0.25)"
   ]
  },
  {
   "cell_type": "code",
   "execution_count": 16,
   "metadata": {
    "ExecuteTime": {
     "end_time": "2019-12-02T19:33:59.776246Z",
     "start_time": "2019-12-02T19:33:59.664690Z"
    }
   },
   "outputs": [
    {
     "name": "stdout",
     "output_type": "stream",
     "text": [
      "SVM-LINEAR: 0.7712532865907099\n",
      "SVM-RBF: 0.7721297107800176\n",
      "Gaussian Process: 0.7721297107800176\n",
      "Random Forest: 0.635407537248028\n",
      "AdaBoost: 0.7598597721297108\n",
      "Decision Tree: 0.7703768624014022\n",
      "XGB: 0.7721297107800176\n"
     ]
    }
   ],
   "source": [
    "names = [\n",
    "    \"SVM-LINEAR\", \"SVM-RBF\", \"Gaussian Process\", \"Random Forest\",\n",
    "    \"AdaBoost\", \"Decision Tree\", 'XGB'\n",
    "]\n",
    "\n",
    "classifiers = [\n",
    "    LogisticRegression(),\n",
    "    SVC(kernel=\"linear\"),\n",
    "    SVC(),\n",
    "    DecisionTreeClassifier(),\n",
    "    RandomForestClassifier(),\n",
    "    AdaBoostClassifier(),\n",
    "    XGBClassifier()\n",
    "]\n",
    "\n",
    "# iterate over classifiers\n",
    "for name, clf in zip(names, classifiers):\n",
    "    clf.fit(X_train, y_train)\n",
    "    score = clf.score(X_test, y_test)\n",
    "    print(f'{name}: {score}')"
   ]
  },
  {
   "cell_type": "code",
   "execution_count": 17,
   "metadata": {},
   "outputs": [
    {
     "name": "stdout",
     "output_type": "stream",
     "text": [
      "Accuracy: 0.7721297107800176\n"
     ]
    }
   ],
   "source": [
    "xgb_model = XGBClassifier()\n",
    "xgb_model.fit(X_train, y_train)\n",
    "acc = xgb_model.score(X_test, y_test)\n",
    "print(f'Accuracy: {acc}')"
   ]
  },
  {
   "cell_type": "code",
   "execution_count": 18,
   "metadata": {},
   "outputs": [
    {
     "name": "stderr",
     "output_type": "stream",
     "text": [
      "Using TensorFlow backend.\n"
     ]
    }
   ],
   "source": [
    "from keras.models import Sequential\n",
    "from keras.layers import Dense, Dropout\n",
    "from keras.utils import to_categorical\n",
    "from sklearn import metrics\n",
    "from keras import optimizers"
   ]
  },
  {
   "cell_type": "code",
   "execution_count": 19,
   "metadata": {},
   "outputs": [
    {
     "name": "stdout",
     "output_type": "stream",
     "text": [
      "3423 train samples with shape (3423, 13)\n",
      "1141 test samples with shape (1141, 13)\n"
     ]
    }
   ],
   "source": [
    "batch_size = 128\n",
    "num_classes = 2\n",
    "epochs = 100\n",
    "\n",
    "x_train = X_train.reshape(X_train.shape[0], 13)\n",
    "x_test = X_test.reshape(X_test.shape[0], 13)\n",
    "x_train = x_train.astype('float32')\n",
    "x_test = x_test.astype('float32')\n",
    "\n",
    "print(f'{x_train.shape[0]} train samples with shape {x_train.shape}')\n",
    "print(f'{x_test.shape[0]} test samples with shape {x_test.shape}')\n",
    "\n",
    "# convert class vectors to binary class matrices\n",
    "y_train = to_categorical(y_train)\n",
    "y_test = to_categorical(y_test)"
   ]
  },
  {
   "cell_type": "code",
   "execution_count": 20,
   "metadata": {},
   "outputs": [
    {
     "name": "stdout",
     "output_type": "stream",
     "text": [
      "Model: \"sequential_1\"\n",
      "_________________________________________________________________\n",
      "Layer (type)                 Output Shape              Param #   \n",
      "=================================================================\n",
      "dense_1 (Dense)              (None, 50)                700       \n",
      "_________________________________________________________________\n",
      "dropout_1 (Dropout)          (None, 50)                0         \n",
      "_________________________________________________________________\n",
      "dense_2 (Dense)              (None, 100)               5100      \n",
      "_________________________________________________________________\n",
      "dropout_2 (Dropout)          (None, 100)               0         \n",
      "_________________________________________________________________\n",
      "dense_3 (Dense)              (None, 2)                 202       \n",
      "=================================================================\n",
      "Total params: 6,002\n",
      "Trainable params: 6,002\n",
      "Non-trainable params: 0\n",
      "_________________________________________________________________\n"
     ]
    }
   ],
   "source": [
    "try:\n",
    "    if model:\n",
    "        del model\n",
    "except NameError:\n",
    "    pass\n",
    "\n",
    "model = Sequential()\n",
    "model.add(Dense(50, activation='relu', input_shape=(13,)))\n",
    "model.add(Dropout(0.2))\n",
    "model.add(Dense(100, activation='relu'))\n",
    "model.add(Dropout(0.2))\n",
    "model.add(Dense(2, activation='softmax'))\n",
    "\n",
    "model.summary()\n",
    "\n",
    "model.compile(loss='categorical_crossentropy',\n",
    "              optimizer=optimizers.nadam(),\n",
    "              metrics=['accuracy'])"
   ]
  },
  {
   "cell_type": "code",
   "execution_count": 21,
   "metadata": {},
   "outputs": [],
   "source": [
    "history = model.fit(x_train, y_train,\n",
    "                    batch_size=batch_size,\n",
    "                    epochs=45,\n",
    "                    verbose=0,\n",
    "                    validation_data=(x_test, y_test))"
   ]
  },
  {
   "cell_type": "code",
   "execution_count": 22,
   "metadata": {},
   "outputs": [
    {
     "data": {
      "image/png": "[encoded data removed]",
      "text/plain": [
       "<Figure size 576x432 with 1 Axes>"
      ]
     },
     "metadata": {
      "needs_background": "light"
     },
     "output_type": "display_data"
    }
   ],
   "source": [
    "plt.figure(figsize=(8, 6))\n",
    "plt.plot(history.history['loss'], label='true')\n",
    "plt.plot(history.history['val_loss'], label='pred')\n",
    "plt.legend(loc='best')\n",
    "plt.show()"
   ]
  },
  {
   "cell_type": "code",
   "execution_count": 23,
   "metadata": {},
   "outputs": [
    {
     "name": "stdout",
     "output_type": "stream",
     "text": [
      "Test loss: 0.5457717634208572\n",
      "Test accuracy: 0.7703768610954285\n"
     ]
    }
   ],
   "source": [
    "score = model.evaluate(x_test, y_test, verbose=0)\n",
    "print('Test loss:', score[0])\n",
    "print('Test accuracy:', score[1])"
   ]
  },
  {
   "cell_type": "code",
   "execution_count": 24,
   "metadata": {},
   "outputs": [
    {
     "data": {
      "text/plain": [
       "0.7703768624014022"
      ]
     },
     "execution_count": 24,
     "metadata": {},
     "output_type": "execute_result"
    }
   ],
   "source": [
    "metrics.accuracy_score(y_pred=model.predict_classes(x_test),\n",
    "                       y_true=np.argmax(y_test, axis=1))"
   ]
  },
  {
   "cell_type": "code",
   "execution_count": 25,
   "metadata": {},
   "outputs": [],
   "source": [
    "model.save('MLP_0.77ACC_NADAM_45EPO_CATCROSS_2L_50_DROP0.2_100_DROP0.2_SOFTMAX.h5')"
   ]
  },
  {
   "cell_type": "code",
   "execution_count": null,
   "metadata": {},
   "outputs": [],
   "source": []
  }
 ],
 "metadata": {
  "kernelspec": {
   "display_name": "Python 3",
   "language": "python",
   "name": "python3"
  },
  "language_info": {
   "codemirror_mode": {
    "name": "ipython",
    "version": 3
   },
   "file_extension": ".py",
   "mimetype": "text/x-python",
   "name": "python",
   "nbconvert_exporter": "python",
   "pygments_lexer": "ipython3",
   "version": "3.7.3"
  }
 },
 "nbformat": 4,
 "nbformat_minor": 2
}
