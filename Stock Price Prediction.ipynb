{
 "cells": [
  {
   "cell_type": "code",
   "execution_count": 1,
   "metadata": {
    "ExecuteTime": {
     "end_time": "2019-12-11T18:50:44.235799Z",
     "start_time": "2019-12-11T18:50:43.374505Z"
    }
   },
   "outputs": [],
   "source": [
    "from warnings import filterwarnings\n",
    "filterwarnings('ignore')\n",
    "%matplotlib inline \n",
    "\n",
    "import pandas as pd\n",
    "import numpy as np\n",
    "import matplotlib.pyplot as plt\n",
    "import seaborn as sns \n",
    "sns.set_style('darkgrid')"
   ]
  },
  {
   "cell_type": "code",
   "execution_count": 2,
   "metadata": {
    "ExecuteTime": {
     "end_time": "2019-12-11T18:50:44.273049Z",
     "start_time": "2019-12-11T18:50:44.238813Z"
    }
   },
   "outputs": [
    {
     "data": {
      "text/html": [
       "<div>\n",
       "<style scoped>\n",
       "    .dataframe tbody tr th:only-of-type {\n",
       "        vertical-align: middle;\n",
       "    }\n",
       "\n",
       "    .dataframe tbody tr th {\n",
       "        vertical-align: top;\n",
       "    }\n",
       "\n",
       "    .dataframe thead th {\n",
       "        text-align: right;\n",
       "    }\n",
       "</style>\n",
       "<table border=\"1\" class=\"dataframe\">\n",
       "  <thead>\n",
       "    <tr style=\"text-align: right;\">\n",
       "      <th></th>\n",
       "      <th>4570</th>\n",
       "      <th>4571</th>\n",
       "      <th>4572</th>\n",
       "      <th>4573</th>\n",
       "      <th>4574</th>\n",
       "    </tr>\n",
       "  </thead>\n",
       "  <tbody>\n",
       "    <tr>\n",
       "      <td>status</td>\n",
       "      <td>GAIN</td>\n",
       "      <td>GAIN</td>\n",
       "      <td>LOSS</td>\n",
       "      <td>LOSS</td>\n",
       "      <td>GAIN</td>\n",
       "    </tr>\n",
       "    <tr>\n",
       "      <td>shortlong</td>\n",
       "      <td>COMPRADO</td>\n",
       "      <td>COMPRADO</td>\n",
       "      <td>COMPRADO</td>\n",
       "      <td>COMPRADO</td>\n",
       "      <td>COMPRADO</td>\n",
       "    </tr>\n",
       "    <tr>\n",
       "      <td>forceIndex</td>\n",
       "      <td>100</td>\n",
       "      <td>140</td>\n",
       "      <td>140</td>\n",
       "      <td>80</td>\n",
       "      <td>95</td>\n",
       "    </tr>\n",
       "    <tr>\n",
       "      <td>trend2min</td>\n",
       "      <td>90</td>\n",
       "      <td>-50</td>\n",
       "      <td>165</td>\n",
       "      <td>20</td>\n",
       "      <td>15</td>\n",
       "    </tr>\n",
       "    <tr>\n",
       "      <td>trend5min</td>\n",
       "      <td>130</td>\n",
       "      <td>100</td>\n",
       "      <td>220</td>\n",
       "      <td>75</td>\n",
       "      <td>30</td>\n",
       "    </tr>\n",
       "    <tr>\n",
       "      <td>trend10min</td>\n",
       "      <td>120</td>\n",
       "      <td>155</td>\n",
       "      <td>100</td>\n",
       "      <td>80</td>\n",
       "      <td>80</td>\n",
       "    </tr>\n",
       "    <tr>\n",
       "      <td>trend15min</td>\n",
       "      <td>65</td>\n",
       "      <td>255</td>\n",
       "      <td>120</td>\n",
       "      <td>125</td>\n",
       "      <td>30</td>\n",
       "    </tr>\n",
       "    <tr>\n",
       "      <td>difCand5</td>\n",
       "      <td>100</td>\n",
       "      <td>140</td>\n",
       "      <td>140</td>\n",
       "      <td>80</td>\n",
       "      <td>95</td>\n",
       "    </tr>\n",
       "    <tr>\n",
       "      <td>buildDate</td>\n",
       "      <td>1573673099000</td>\n",
       "      <td>1573673399000</td>\n",
       "      <td>1573673699000</td>\n",
       "      <td>1573674299000</td>\n",
       "      <td>1573675499000</td>\n",
       "    </tr>\n",
       "    <tr>\n",
       "      <td>difOpenClose</td>\n",
       "      <td>110</td>\n",
       "      <td>-50</td>\n",
       "      <td>185</td>\n",
       "      <td>50</td>\n",
       "      <td>10</td>\n",
       "    </tr>\n",
       "    <tr>\n",
       "      <td>dojy</td>\n",
       "      <td>False</td>\n",
       "      <td>False</td>\n",
       "      <td>False</td>\n",
       "      <td>False</td>\n",
       "      <td>False</td>\n",
       "    </tr>\n",
       "    <tr>\n",
       "      <td>hammer</td>\n",
       "      <td>False</td>\n",
       "      <td>False</td>\n",
       "      <td>False</td>\n",
       "      <td>False</td>\n",
       "      <td>False</td>\n",
       "    </tr>\n",
       "    <tr>\n",
       "      <td>breakout</td>\n",
       "      <td>False</td>\n",
       "      <td>False</td>\n",
       "      <td>False</td>\n",
       "      <td>False</td>\n",
       "      <td>False</td>\n",
       "    </tr>\n",
       "    <tr>\n",
       "      <td>highGulf</td>\n",
       "      <td>False</td>\n",
       "      <td>False</td>\n",
       "      <td>False</td>\n",
       "      <td>False</td>\n",
       "      <td>False</td>\n",
       "    </tr>\n",
       "    <tr>\n",
       "      <td>lowGulf</td>\n",
       "      <td>False</td>\n",
       "      <td>False</td>\n",
       "      <td>False</td>\n",
       "      <td>False</td>\n",
       "      <td>False</td>\n",
       "    </tr>\n",
       "  </tbody>\n",
       "</table>\n",
       "</div>"
      ],
      "text/plain": [
       "                       4570           4571           4572           4573  \\\n",
       "status                 GAIN           GAIN           LOSS           LOSS   \n",
       "shortlong          COMPRADO       COMPRADO       COMPRADO       COMPRADO   \n",
       "forceIndex              100            140            140             80   \n",
       "trend2min                90            -50            165             20   \n",
       "trend5min               130            100            220             75   \n",
       "trend10min              120            155            100             80   \n",
       "trend15min               65            255            120            125   \n",
       "difCand5                100            140            140             80   \n",
       "buildDate     1573673099000  1573673399000  1573673699000  1573674299000   \n",
       "difOpenClose            110            -50            185             50   \n",
       "dojy                  False          False          False          False   \n",
       "hammer                False          False          False          False   \n",
       "breakout              False          False          False          False   \n",
       "highGulf              False          False          False          False   \n",
       "lowGulf               False          False          False          False   \n",
       "\n",
       "                       4574  \n",
       "status                 GAIN  \n",
       "shortlong          COMPRADO  \n",
       "forceIndex               95  \n",
       "trend2min                15  \n",
       "trend5min                30  \n",
       "trend10min               80  \n",
       "trend15min               30  \n",
       "difCand5                 95  \n",
       "buildDate     1573675499000  \n",
       "difOpenClose             10  \n",
       "dojy                  False  \n",
       "hammer                False  \n",
       "breakout              False  \n",
       "highGulf              False  \n",
       "lowGulf               False  "
      ]
     },
     "execution_count": 2,
     "metadata": {},
     "output_type": "execute_result"
    }
   ],
   "source": [
    "df = pd.read_csv('ML_Input_Model_Train.csv', delimiter=';')\n",
    "df.tail().T"
   ]
  },
  {
   "cell_type": "code",
   "execution_count": 3,
   "metadata": {
    "ExecuteTime": {
     "end_time": "2019-12-11T18:50:44.376535Z",
     "start_time": "2019-12-11T18:50:44.275250Z"
    }
   },
   "outputs": [
    {
     "name": "stdout",
     "output_type": "stream",
     "text": [
      "4\n",
      "2\n",
      "4575\n"
     ]
    }
   ],
   "source": [
    "print(len(df['status'].unique()))\n",
    "print(len(df['shortlong'].unique()))\n",
    "print(len(df['buildDate'].unique()))"
   ]
  },
  {
   "cell_type": "code",
   "execution_count": 4,
   "metadata": {
    "ExecuteTime": {
     "end_time": "2019-12-11T18:50:44.543224Z",
     "start_time": "2019-12-11T18:50:44.380276Z"
    }
   },
   "outputs": [
    {
     "data": {
      "text/html": [
       "<div>\n",
       "<style scoped>\n",
       "    .dataframe tbody tr th:only-of-type {\n",
       "        vertical-align: middle;\n",
       "    }\n",
       "\n",
       "    .dataframe tbody tr th {\n",
       "        vertical-align: top;\n",
       "    }\n",
       "\n",
       "    .dataframe thead th {\n",
       "        text-align: right;\n",
       "    }\n",
       "</style>\n",
       "<table border=\"1\" class=\"dataframe\">\n",
       "  <thead>\n",
       "    <tr style=\"text-align: right;\">\n",
       "      <th></th>\n",
       "      <th>4570</th>\n",
       "      <th>4571</th>\n",
       "      <th>4572</th>\n",
       "      <th>4573</th>\n",
       "      <th>4574</th>\n",
       "    </tr>\n",
       "  </thead>\n",
       "  <tbody>\n",
       "    <tr>\n",
       "      <td>status</td>\n",
       "      <td>GAIN</td>\n",
       "      <td>GAIN</td>\n",
       "      <td>LOSS</td>\n",
       "      <td>LOSS</td>\n",
       "      <td>GAIN</td>\n",
       "    </tr>\n",
       "    <tr>\n",
       "      <td>shortlong</td>\n",
       "      <td>COMPRADO</td>\n",
       "      <td>COMPRADO</td>\n",
       "      <td>COMPRADO</td>\n",
       "      <td>COMPRADO</td>\n",
       "      <td>COMPRADO</td>\n",
       "    </tr>\n",
       "    <tr>\n",
       "      <td>forceIndex</td>\n",
       "      <td>100</td>\n",
       "      <td>140</td>\n",
       "      <td>140</td>\n",
       "      <td>80</td>\n",
       "      <td>95</td>\n",
       "    </tr>\n",
       "    <tr>\n",
       "      <td>trend2min</td>\n",
       "      <td>90</td>\n",
       "      <td>-50</td>\n",
       "      <td>165</td>\n",
       "      <td>20</td>\n",
       "      <td>15</td>\n",
       "    </tr>\n",
       "    <tr>\n",
       "      <td>trend5min</td>\n",
       "      <td>130</td>\n",
       "      <td>100</td>\n",
       "      <td>220</td>\n",
       "      <td>75</td>\n",
       "      <td>30</td>\n",
       "    </tr>\n",
       "    <tr>\n",
       "      <td>trend10min</td>\n",
       "      <td>120</td>\n",
       "      <td>155</td>\n",
       "      <td>100</td>\n",
       "      <td>80</td>\n",
       "      <td>80</td>\n",
       "    </tr>\n",
       "    <tr>\n",
       "      <td>trend15min</td>\n",
       "      <td>65</td>\n",
       "      <td>255</td>\n",
       "      <td>120</td>\n",
       "      <td>125</td>\n",
       "      <td>30</td>\n",
       "    </tr>\n",
       "    <tr>\n",
       "      <td>difCand5</td>\n",
       "      <td>100</td>\n",
       "      <td>140</td>\n",
       "      <td>140</td>\n",
       "      <td>80</td>\n",
       "      <td>95</td>\n",
       "    </tr>\n",
       "    <tr>\n",
       "      <td>buildDate</td>\n",
       "      <td>2019-11-13 19:24:59</td>\n",
       "      <td>2019-11-13 19:29:59</td>\n",
       "      <td>2019-11-13 19:34:59</td>\n",
       "      <td>2019-11-13 19:44:59</td>\n",
       "      <td>2019-11-13 20:04:59</td>\n",
       "    </tr>\n",
       "    <tr>\n",
       "      <td>difOpenClose</td>\n",
       "      <td>110</td>\n",
       "      <td>-50</td>\n",
       "      <td>185</td>\n",
       "      <td>50</td>\n",
       "      <td>10</td>\n",
       "    </tr>\n",
       "    <tr>\n",
       "      <td>dojy</td>\n",
       "      <td>False</td>\n",
       "      <td>False</td>\n",
       "      <td>False</td>\n",
       "      <td>False</td>\n",
       "      <td>False</td>\n",
       "    </tr>\n",
       "    <tr>\n",
       "      <td>hammer</td>\n",
       "      <td>False</td>\n",
       "      <td>False</td>\n",
       "      <td>False</td>\n",
       "      <td>False</td>\n",
       "      <td>False</td>\n",
       "    </tr>\n",
       "    <tr>\n",
       "      <td>breakout</td>\n",
       "      <td>False</td>\n",
       "      <td>False</td>\n",
       "      <td>False</td>\n",
       "      <td>False</td>\n",
       "      <td>False</td>\n",
       "    </tr>\n",
       "    <tr>\n",
       "      <td>highGulf</td>\n",
       "      <td>False</td>\n",
       "      <td>False</td>\n",
       "      <td>False</td>\n",
       "      <td>False</td>\n",
       "      <td>False</td>\n",
       "    </tr>\n",
       "    <tr>\n",
       "      <td>lowGulf</td>\n",
       "      <td>False</td>\n",
       "      <td>False</td>\n",
       "      <td>False</td>\n",
       "      <td>False</td>\n",
       "      <td>False</td>\n",
       "    </tr>\n",
       "  </tbody>\n",
       "</table>\n",
       "</div>"
      ],
      "text/plain": [
       "                             4570                 4571                 4572  \\\n",
       "status                       GAIN                 GAIN                 LOSS   \n",
       "shortlong                COMPRADO             COMPRADO             COMPRADO   \n",
       "forceIndex                    100                  140                  140   \n",
       "trend2min                      90                  -50                  165   \n",
       "trend5min                     130                  100                  220   \n",
       "trend10min                    120                  155                  100   \n",
       "trend15min                     65                  255                  120   \n",
       "difCand5                      100                  140                  140   \n",
       "buildDate     2019-11-13 19:24:59  2019-11-13 19:29:59  2019-11-13 19:34:59   \n",
       "difOpenClose                  110                  -50                  185   \n",
       "dojy                        False                False                False   \n",
       "hammer                      False                False                False   \n",
       "breakout                    False                False                False   \n",
       "highGulf                    False                False                False   \n",
       "lowGulf                     False                False                False   \n",
       "\n",
       "                             4573                 4574  \n",
       "status                       LOSS                 GAIN  \n",
       "shortlong                COMPRADO             COMPRADO  \n",
       "forceIndex                     80                   95  \n",
       "trend2min                      20                   15  \n",
       "trend5min                      75                   30  \n",
       "trend10min                     80                   80  \n",
       "trend15min                    125                   30  \n",
       "difCand5                       80                   95  \n",
       "buildDate     2019-11-13 19:44:59  2019-11-13 20:04:59  \n",
       "difOpenClose                   50                   10  \n",
       "dojy                        False                False  \n",
       "hammer                      False                False  \n",
       "breakout                    False                False  \n",
       "highGulf                    False                False  \n",
       "lowGulf                     False                False  "
      ]
     },
     "execution_count": 4,
     "metadata": {},
     "output_type": "execute_result"
    }
   ],
   "source": [
    "# df.drop('buildDate', axis=1, inplace=True)\n",
    "df['buildDate'] = pd.to_datetime(df['buildDate'], unit='ms')\n",
    "df.tail().T"
   ]
  },
  {
   "cell_type": "code",
   "execution_count": 5,
   "metadata": {
    "ExecuteTime": {
     "end_time": "2019-12-11T18:50:44.617854Z",
     "start_time": "2019-12-11T18:50:44.545068Z"
    }
   },
   "outputs": [],
   "source": [
    "df.set_index('buildDate', inplace=True)"
   ]
  },
  {
   "cell_type": "code",
   "execution_count": 6,
   "metadata": {
    "ExecuteTime": {
     "end_time": "2019-12-11T18:50:44.730351Z",
     "start_time": "2019-12-11T18:50:44.620439Z"
    }
   },
   "outputs": [
    {
     "data": {
      "text/plain": [
       "Index(['status', 'shortlong', 'forceIndex', 'trend2min', 'trend5min',\n",
       "       'trend10min', 'trend15min', 'difCand5', 'difOpenClose', 'dojy',\n",
       "       'hammer', 'breakout', 'highGulf', 'lowGulf'],\n",
       "      dtype='object')"
      ]
     },
     "execution_count": 6,
     "metadata": {},
     "output_type": "execute_result"
    }
   ],
   "source": [
    "df.columns"
   ]
  },
  {
   "cell_type": "code",
   "execution_count": 7,
   "metadata": {
    "ExecuteTime": {
     "end_time": "2019-12-11T18:50:44.835107Z",
     "start_time": "2019-12-11T18:50:44.736989Z"
    }
   },
   "outputs": [],
   "source": [
    "df['dojy'] = df['dojy'].astype('int')\n",
    "df['hammer'] = df['hammer'].astype('int')\n",
    "df['breakout'] = df['breakout'].astype('int') \n",
    "df['highGulf'] = df['highGulf'].astype('int') \n",
    "df['lowGulf'] = df['lowGulf'].astype('int')"
   ]
  },
  {
   "cell_type": "code",
   "execution_count": 8,
   "metadata": {
    "ExecuteTime": {
     "end_time": "2019-12-11T18:50:45.010808Z",
     "start_time": "2019-12-11T18:50:44.838605Z"
    }
   },
   "outputs": [
    {
     "data": {
      "text/html": [
       "<div>\n",
       "<style scoped>\n",
       "    .dataframe tbody tr th:only-of-type {\n",
       "        vertical-align: middle;\n",
       "    }\n",
       "\n",
       "    .dataframe tbody tr th {\n",
       "        vertical-align: top;\n",
       "    }\n",
       "\n",
       "    .dataframe thead th {\n",
       "        text-align: right;\n",
       "    }\n",
       "</style>\n",
       "<table border=\"1\" class=\"dataframe\">\n",
       "  <thead>\n",
       "    <tr style=\"text-align: right;\">\n",
       "      <th>buildDate</th>\n",
       "      <th>2019-11-13 19:24:59</th>\n",
       "      <th>2019-11-13 19:29:59</th>\n",
       "      <th>2019-11-13 19:34:59</th>\n",
       "      <th>2019-11-13 19:44:59</th>\n",
       "      <th>2019-11-13 20:04:59</th>\n",
       "    </tr>\n",
       "  </thead>\n",
       "  <tbody>\n",
       "    <tr>\n",
       "      <td>status</td>\n",
       "      <td>GAIN</td>\n",
       "      <td>GAIN</td>\n",
       "      <td>LOSS</td>\n",
       "      <td>LOSS</td>\n",
       "      <td>GAIN</td>\n",
       "    </tr>\n",
       "    <tr>\n",
       "      <td>shortlong</td>\n",
       "      <td>COMPRADO</td>\n",
       "      <td>COMPRADO</td>\n",
       "      <td>COMPRADO</td>\n",
       "      <td>COMPRADO</td>\n",
       "      <td>COMPRADO</td>\n",
       "    </tr>\n",
       "    <tr>\n",
       "      <td>forceIndex</td>\n",
       "      <td>100</td>\n",
       "      <td>140</td>\n",
       "      <td>140</td>\n",
       "      <td>80</td>\n",
       "      <td>95</td>\n",
       "    </tr>\n",
       "    <tr>\n",
       "      <td>trend2min</td>\n",
       "      <td>90</td>\n",
       "      <td>-50</td>\n",
       "      <td>165</td>\n",
       "      <td>20</td>\n",
       "      <td>15</td>\n",
       "    </tr>\n",
       "    <tr>\n",
       "      <td>trend5min</td>\n",
       "      <td>130</td>\n",
       "      <td>100</td>\n",
       "      <td>220</td>\n",
       "      <td>75</td>\n",
       "      <td>30</td>\n",
       "    </tr>\n",
       "    <tr>\n",
       "      <td>trend10min</td>\n",
       "      <td>120</td>\n",
       "      <td>155</td>\n",
       "      <td>100</td>\n",
       "      <td>80</td>\n",
       "      <td>80</td>\n",
       "    </tr>\n",
       "    <tr>\n",
       "      <td>trend15min</td>\n",
       "      <td>65</td>\n",
       "      <td>255</td>\n",
       "      <td>120</td>\n",
       "      <td>125</td>\n",
       "      <td>30</td>\n",
       "    </tr>\n",
       "    <tr>\n",
       "      <td>difCand5</td>\n",
       "      <td>100</td>\n",
       "      <td>140</td>\n",
       "      <td>140</td>\n",
       "      <td>80</td>\n",
       "      <td>95</td>\n",
       "    </tr>\n",
       "    <tr>\n",
       "      <td>difOpenClose</td>\n",
       "      <td>110</td>\n",
       "      <td>-50</td>\n",
       "      <td>185</td>\n",
       "      <td>50</td>\n",
       "      <td>10</td>\n",
       "    </tr>\n",
       "    <tr>\n",
       "      <td>dojy</td>\n",
       "      <td>0</td>\n",
       "      <td>0</td>\n",
       "      <td>0</td>\n",
       "      <td>0</td>\n",
       "      <td>0</td>\n",
       "    </tr>\n",
       "    <tr>\n",
       "      <td>hammer</td>\n",
       "      <td>0</td>\n",
       "      <td>0</td>\n",
       "      <td>0</td>\n",
       "      <td>0</td>\n",
       "      <td>0</td>\n",
       "    </tr>\n",
       "    <tr>\n",
       "      <td>breakout</td>\n",
       "      <td>0</td>\n",
       "      <td>0</td>\n",
       "      <td>0</td>\n",
       "      <td>0</td>\n",
       "      <td>0</td>\n",
       "    </tr>\n",
       "    <tr>\n",
       "      <td>highGulf</td>\n",
       "      <td>0</td>\n",
       "      <td>0</td>\n",
       "      <td>0</td>\n",
       "      <td>0</td>\n",
       "      <td>0</td>\n",
       "    </tr>\n",
       "    <tr>\n",
       "      <td>lowGulf</td>\n",
       "      <td>0</td>\n",
       "      <td>0</td>\n",
       "      <td>0</td>\n",
       "      <td>0</td>\n",
       "      <td>0</td>\n",
       "    </tr>\n",
       "  </tbody>\n",
       "</table>\n",
       "</div>"
      ],
      "text/plain": [
       "buildDate    2019-11-13 19:24:59 2019-11-13 19:29:59 2019-11-13 19:34:59  \\\n",
       "status                      GAIN                GAIN                LOSS   \n",
       "shortlong               COMPRADO            COMPRADO            COMPRADO   \n",
       "forceIndex                   100                 140                 140   \n",
       "trend2min                     90                 -50                 165   \n",
       "trend5min                    130                 100                 220   \n",
       "trend10min                   120                 155                 100   \n",
       "trend15min                    65                 255                 120   \n",
       "difCand5                     100                 140                 140   \n",
       "difOpenClose                 110                 -50                 185   \n",
       "dojy                           0                   0                   0   \n",
       "hammer                         0                   0                   0   \n",
       "breakout                       0                   0                   0   \n",
       "highGulf                       0                   0                   0   \n",
       "lowGulf                        0                   0                   0   \n",
       "\n",
       "buildDate    2019-11-13 19:44:59 2019-11-13 20:04:59  \n",
       "status                      LOSS                GAIN  \n",
       "shortlong               COMPRADO            COMPRADO  \n",
       "forceIndex                    80                  95  \n",
       "trend2min                     20                  15  \n",
       "trend5min                     75                  30  \n",
       "trend10min                    80                  80  \n",
       "trend15min                   125                  30  \n",
       "difCand5                      80                  95  \n",
       "difOpenClose                  50                  10  \n",
       "dojy                           0                   0  \n",
       "hammer                         0                   0  \n",
       "breakout                       0                   0  \n",
       "highGulf                       0                   0  \n",
       "lowGulf                        0                   0  "
      ]
     },
     "execution_count": 8,
     "metadata": {},
     "output_type": "execute_result"
    }
   ],
   "source": [
    "df.tail().T"
   ]
  },
  {
   "cell_type": "code",
   "execution_count": 9,
   "metadata": {
    "ExecuteTime": {
     "end_time": "2019-12-11T18:50:45.085810Z",
     "start_time": "2019-12-11T18:50:45.013103Z"
    }
   },
   "outputs": [
    {
     "name": "stdout",
     "output_type": "stream",
     "text": [
      "['GAIN' 'LOSS' 'COMPRADO' 'VENDIDO']\n",
      "['VENDIDO' 'COMPRADO']\n"
     ]
    }
   ],
   "source": [
    "print(df['status'].unique())\n",
    "print(df['shortlong'].unique())"
   ]
  },
  {
   "cell_type": "code",
   "execution_count": 10,
   "metadata": {
    "ExecuteTime": {
     "end_time": "2019-12-11T18:50:45.210307Z",
     "start_time": "2019-12-11T18:50:45.090149Z"
    }
   },
   "outputs": [],
   "source": [
    "df.drop(df[df['status'] == 'COMPRADO'].index, inplace=True)\n",
    "df.drop(df[df['status'] == 'VENDIDO'].index, inplace=True)\n",
    "\n",
    "df['status'].replace(to_replace='GAIN', value=1, inplace=True)\n",
    "df['status'].replace(to_replace='LOSS', value=0, inplace=True)\n",
    "\n",
    "df['shortlong'].replace(to_replace='COMPRADO', value=1, inplace=True)\n",
    "df['shortlong'].replace(to_replace='VENDIDO', value=0, inplace=True)"
   ]
  },
  {
   "cell_type": "code",
   "execution_count": 11,
   "metadata": {
    "ExecuteTime": {
     "end_time": "2019-12-11T18:50:45.305888Z",
     "start_time": "2019-12-11T18:50:45.212816Z"
    }
   },
   "outputs": [
    {
     "data": {
      "text/html": [
       "<div>\n",
       "<style scoped>\n",
       "    .dataframe tbody tr th:only-of-type {\n",
       "        vertical-align: middle;\n",
       "    }\n",
       "\n",
       "    .dataframe tbody tr th {\n",
       "        vertical-align: top;\n",
       "    }\n",
       "\n",
       "    .dataframe thead th {\n",
       "        text-align: right;\n",
       "    }\n",
       "</style>\n",
       "<table border=\"1\" class=\"dataframe\">\n",
       "  <thead>\n",
       "    <tr style=\"text-align: right;\">\n",
       "      <th>buildDate</th>\n",
       "      <th>2019-11-13 19:24:59</th>\n",
       "      <th>2019-11-13 19:29:59</th>\n",
       "      <th>2019-11-13 19:34:59</th>\n",
       "      <th>2019-11-13 19:44:59</th>\n",
       "      <th>2019-11-13 20:04:59</th>\n",
       "    </tr>\n",
       "  </thead>\n",
       "  <tbody>\n",
       "    <tr>\n",
       "      <td>status</td>\n",
       "      <td>1</td>\n",
       "      <td>1</td>\n",
       "      <td>0</td>\n",
       "      <td>0</td>\n",
       "      <td>1</td>\n",
       "    </tr>\n",
       "    <tr>\n",
       "      <td>shortlong</td>\n",
       "      <td>1</td>\n",
       "      <td>1</td>\n",
       "      <td>1</td>\n",
       "      <td>1</td>\n",
       "      <td>1</td>\n",
       "    </tr>\n",
       "    <tr>\n",
       "      <td>forceIndex</td>\n",
       "      <td>100</td>\n",
       "      <td>140</td>\n",
       "      <td>140</td>\n",
       "      <td>80</td>\n",
       "      <td>95</td>\n",
       "    </tr>\n",
       "    <tr>\n",
       "      <td>trend2min</td>\n",
       "      <td>90</td>\n",
       "      <td>-50</td>\n",
       "      <td>165</td>\n",
       "      <td>20</td>\n",
       "      <td>15</td>\n",
       "    </tr>\n",
       "    <tr>\n",
       "      <td>trend5min</td>\n",
       "      <td>130</td>\n",
       "      <td>100</td>\n",
       "      <td>220</td>\n",
       "      <td>75</td>\n",
       "      <td>30</td>\n",
       "    </tr>\n",
       "    <tr>\n",
       "      <td>trend10min</td>\n",
       "      <td>120</td>\n",
       "      <td>155</td>\n",
       "      <td>100</td>\n",
       "      <td>80</td>\n",
       "      <td>80</td>\n",
       "    </tr>\n",
       "    <tr>\n",
       "      <td>trend15min</td>\n",
       "      <td>65</td>\n",
       "      <td>255</td>\n",
       "      <td>120</td>\n",
       "      <td>125</td>\n",
       "      <td>30</td>\n",
       "    </tr>\n",
       "    <tr>\n",
       "      <td>difCand5</td>\n",
       "      <td>100</td>\n",
       "      <td>140</td>\n",
       "      <td>140</td>\n",
       "      <td>80</td>\n",
       "      <td>95</td>\n",
       "    </tr>\n",
       "    <tr>\n",
       "      <td>difOpenClose</td>\n",
       "      <td>110</td>\n",
       "      <td>-50</td>\n",
       "      <td>185</td>\n",
       "      <td>50</td>\n",
       "      <td>10</td>\n",
       "    </tr>\n",
       "    <tr>\n",
       "      <td>dojy</td>\n",
       "      <td>0</td>\n",
       "      <td>0</td>\n",
       "      <td>0</td>\n",
       "      <td>0</td>\n",
       "      <td>0</td>\n",
       "    </tr>\n",
       "    <tr>\n",
       "      <td>hammer</td>\n",
       "      <td>0</td>\n",
       "      <td>0</td>\n",
       "      <td>0</td>\n",
       "      <td>0</td>\n",
       "      <td>0</td>\n",
       "    </tr>\n",
       "    <tr>\n",
       "      <td>breakout</td>\n",
       "      <td>0</td>\n",
       "      <td>0</td>\n",
       "      <td>0</td>\n",
       "      <td>0</td>\n",
       "      <td>0</td>\n",
       "    </tr>\n",
       "    <tr>\n",
       "      <td>highGulf</td>\n",
       "      <td>0</td>\n",
       "      <td>0</td>\n",
       "      <td>0</td>\n",
       "      <td>0</td>\n",
       "      <td>0</td>\n",
       "    </tr>\n",
       "    <tr>\n",
       "      <td>lowGulf</td>\n",
       "      <td>0</td>\n",
       "      <td>0</td>\n",
       "      <td>0</td>\n",
       "      <td>0</td>\n",
       "      <td>0</td>\n",
       "    </tr>\n",
       "  </tbody>\n",
       "</table>\n",
       "</div>"
      ],
      "text/plain": [
       "buildDate     2019-11-13 19:24:59  2019-11-13 19:29:59  2019-11-13 19:34:59  \\\n",
       "status                          1                    1                    0   \n",
       "shortlong                       1                    1                    1   \n",
       "forceIndex                    100                  140                  140   \n",
       "trend2min                      90                  -50                  165   \n",
       "trend5min                     130                  100                  220   \n",
       "trend10min                    120                  155                  100   \n",
       "trend15min                     65                  255                  120   \n",
       "difCand5                      100                  140                  140   \n",
       "difOpenClose                  110                  -50                  185   \n",
       "dojy                            0                    0                    0   \n",
       "hammer                          0                    0                    0   \n",
       "breakout                        0                    0                    0   \n",
       "highGulf                        0                    0                    0   \n",
       "lowGulf                         0                    0                    0   \n",
       "\n",
       "buildDate     2019-11-13 19:44:59  2019-11-13 20:04:59  \n",
       "status                          0                    1  \n",
       "shortlong                       1                    1  \n",
       "forceIndex                     80                   95  \n",
       "trend2min                      20                   15  \n",
       "trend5min                      75                   30  \n",
       "trend10min                     80                   80  \n",
       "trend15min                    125                   30  \n",
       "difCand5                       80                   95  \n",
       "difOpenClose                   50                   10  \n",
       "dojy                            0                    0  \n",
       "hammer                          0                    0  \n",
       "breakout                        0                    0  \n",
       "highGulf                        0                    0  \n",
       "lowGulf                         0                    0  "
      ]
     },
     "execution_count": 11,
     "metadata": {},
     "output_type": "execute_result"
    }
   ],
   "source": [
    "df.tail().T"
   ]
  },
  {
   "cell_type": "code",
   "execution_count": 12,
   "metadata": {
    "ExecuteTime": {
     "end_time": "2019-12-11T18:50:45.401959Z",
     "start_time": "2019-12-11T18:50:45.308269Z"
    }
   },
   "outputs": [
    {
     "data": {
      "text/plain": [
       "count    4564.000000\n",
       "mean        0.756135\n",
       "std         0.429459\n",
       "min         0.000000\n",
       "25%         1.000000\n",
       "50%         1.000000\n",
       "75%         1.000000\n",
       "max         1.000000\n",
       "Name: status, dtype: float64"
      ]
     },
     "execution_count": 12,
     "metadata": {},
     "output_type": "execute_result"
    }
   ],
   "source": [
    "df.status.describe()"
   ]
  },
  {
   "cell_type": "code",
   "execution_count": 13,
   "metadata": {
    "ExecuteTime": {
     "end_time": "2019-12-11T18:50:45.526618Z",
     "start_time": "2019-12-11T18:50:45.404395Z"
    }
   },
   "outputs": [
    {
     "data": {
      "text/plain": [
       "(3451, 1113)"
      ]
     },
     "execution_count": 13,
     "metadata": {},
     "output_type": "execute_result"
    }
   ],
   "source": [
    "len(df[df.status == 1]), len(df[df.status == 0])"
   ]
  },
  {
   "cell_type": "code",
   "execution_count": 14,
   "metadata": {
    "ExecuteTime": {
     "end_time": "2019-12-11T18:50:45.609030Z",
     "start_time": "2019-12-11T18:50:45.528841Z"
    }
   },
   "outputs": [],
   "source": [
    "temp_df_one = df[df['status'] == 1][:len(df[df['status'] == 0].index)]\n",
    "temp_df_zero = df[df['status'] == 0]"
   ]
  },
  {
   "cell_type": "code",
   "execution_count": 15,
   "metadata": {
    "ExecuteTime": {
     "end_time": "2019-12-11T18:50:45.732425Z",
     "start_time": "2019-12-11T18:50:45.611239Z"
    }
   },
   "outputs": [
    {
     "data": {
      "text/plain": [
       "(array([1]), array([0]))"
      ]
     },
     "execution_count": 15,
     "metadata": {},
     "output_type": "execute_result"
    }
   ],
   "source": [
    "temp_df_one.status.unique(), temp_df_zero.status.unique()"
   ]
  },
  {
   "cell_type": "code",
   "execution_count": 16,
   "metadata": {
    "ExecuteTime": {
     "end_time": "2019-12-11T18:50:45.927282Z",
     "start_time": "2019-12-11T18:50:45.736020Z"
    }
   },
   "outputs": [
    {
     "data": {
      "text/plain": [
       "(1113, 1113)"
      ]
     },
     "execution_count": 16,
     "metadata": {},
     "output_type": "execute_result"
    }
   ],
   "source": [
    "len(temp_df_one.index), len(temp_df_zero.index)"
   ]
  },
  {
   "cell_type": "code",
   "execution_count": 17,
   "metadata": {
    "ExecuteTime": {
     "end_time": "2019-12-11T18:50:46.058145Z",
     "start_time": "2019-12-11T18:50:45.930946Z"
    }
   },
   "outputs": [
    {
     "data": {
      "text/plain": [
       "array([1, 0])"
      ]
     },
     "execution_count": 17,
     "metadata": {},
     "output_type": "execute_result"
    }
   ],
   "source": [
    "df = temp_df_one.append(temp_df_zero)\n",
    "df.status.unique()"
   ]
  },
  {
   "cell_type": "code",
   "execution_count": 18,
   "metadata": {
    "ExecuteTime": {
     "end_time": "2019-12-11T18:50:46.156379Z",
     "start_time": "2019-12-11T18:50:46.060360Z"
    }
   },
   "outputs": [
    {
     "data": {
      "text/plain": [
       "(1113, 1113)"
      ]
     },
     "execution_count": 18,
     "metadata": {},
     "output_type": "execute_result"
    }
   ],
   "source": [
    "len(df[df.status == 1]), len(df[df.status == 0])"
   ]
  },
  {
   "cell_type": "code",
   "execution_count": 19,
   "metadata": {
    "ExecuteTime": {
     "end_time": "2019-12-11T18:50:46.238948Z",
     "start_time": "2019-12-11T18:50:46.159554Z"
    }
   },
   "outputs": [],
   "source": [
    "df = df.sample(frac=1)"
   ]
  },
  {
   "cell_type": "code",
   "execution_count": 20,
   "metadata": {
    "ExecuteTime": {
     "end_time": "2019-12-11T18:50:46.850640Z",
     "start_time": "2019-12-11T18:50:46.241835Z"
    }
   },
   "outputs": [
    {
     "data": {
      "text/plain": [
       "[Text(0.5, 0, 'status'),\n",
       " Text(1.5, 0, 'shortlong'),\n",
       " Text(2.5, 0, 'forceIndex'),\n",
       " Text(3.5, 0, 'trend2min'),\n",
       " Text(4.5, 0, 'trend5min'),\n",
       " Text(5.5, 0, 'trend10min'),\n",
       " Text(6.5, 0, 'trend15min'),\n",
       " Text(7.5, 0, 'difCand5'),\n",
       " Text(8.5, 0, 'difOpenClose'),\n",
       " Text(9.5, 0, 'dojy'),\n",
       " Text(10.5, 0, 'hammer'),\n",
       " Text(11.5, 0, 'breakout'),\n",
       " Text(12.5, 0, 'highGulf'),\n",
       " Text(13.5, 0, 'lowGulf')]"
      ]
     },
     "execution_count": 20,
     "metadata": {},
     "output_type": "execute_result"
    },
    {
     "data": {
      "image/png": "[encoded data removed]",
      "text/plain": [
       "<Figure size 648x648 with 2 Axes>"
      ]
     },
     "metadata": {
      "needs_background": "light"
     },
     "output_type": "display_data"
    }
   ],
   "source": [
    "plt.figure(figsize=(9, 9))\n",
    "ax = sns.heatmap(df.corr(),\n",
    "                 vmin=-1,\n",
    "                 vmax=1,\n",
    "                 center=0,\n",
    "                 cmap=sns.diverging_palette(20, 220, n=200),\n",
    "                 square=True)\n",
    "ax.set_xticklabels(ax.get_xticklabels(),\n",
    "                   rotation=45,\n",
    "                   horizontalalignment='right')"
   ]
  },
  {
   "cell_type": "code",
   "execution_count": 21,
   "metadata": {
    "ExecuteTime": {
     "end_time": "2019-12-11T18:50:46.857606Z",
     "start_time": "2019-12-11T18:50:46.852554Z"
    }
   },
   "outputs": [],
   "source": [
    "X = df.drop('status', axis=1).values\n",
    "y = df['status'].values"
   ]
  },
  {
   "cell_type": "code",
   "execution_count": 22,
   "metadata": {
    "ExecuteTime": {
     "end_time": "2019-12-11T18:50:46.987316Z",
     "start_time": "2019-12-11T18:50:46.859633Z"
    }
   },
   "outputs": [
    {
     "name": "stdout",
     "output_type": "stream",
     "text": [
      "Data:\n",
      "\n",
      "[[   1   90   30   50   50   30   90   25    0    0    0    0    0]\n",
      " [   1   95   -5  -30   90  125   95  -20    0    1    0    0    0]\n",
      " [   0   85    5   35    5 -100  -85   40    0    0    0    0    0]\n",
      " [   1  245   80  140  230  190  245   60    0    0    0    0    0]\n",
      " [   0  105  -70 -115 -205 -375 -105  -30    0    0    0    0    0]]\n",
      "Labels:\n",
      "\n",
      "[0 1 0 0 1]\n"
     ]
    }
   ],
   "source": [
    "print(f'Data:\\n\\n{X[-5:]}\\nLabels:\\n\\n{y[-5:]}')"
   ]
  },
  {
   "cell_type": "code",
   "execution_count": 23,
   "metadata": {
    "ExecuteTime": {
     "end_time": "2019-12-11T18:50:47.367691Z",
     "start_time": "2019-12-11T18:50:46.990146Z"
    }
   },
   "outputs": [],
   "source": [
    "from sklearn.preprocessing import StandardScaler\n",
    "from sklearn.model_selection import train_test_split, GridSearchCV\n",
    "from xgboost import XGBClassifier, plot_importance\n",
    "from sklearn.linear_model import LogisticRegression\n",
    "from sklearn.svm import SVC\n",
    "from sklearn.ensemble import RandomForestClassifier, AdaBoostClassifier\n",
    "from sklearn.tree import DecisionTreeClassifier"
   ]
  },
  {
   "cell_type": "code",
   "execution_count": 24,
   "metadata": {
    "ExecuteTime": {
     "end_time": "2019-12-11T18:50:47.379421Z",
     "start_time": "2019-12-11T18:50:47.369648Z"
    }
   },
   "outputs": [],
   "source": [
    "X = StandardScaler().fit_transform(X)\n",
    "X_train, X_test, y_train, y_test = train_test_split(X, y, test_size=0.1)"
   ]
  },
  {
   "cell_type": "code",
   "execution_count": 25,
   "metadata": {
    "ExecuteTime": {
     "end_time": "2019-12-11T18:50:48.640631Z",
     "start_time": "2019-12-11T18:50:47.385711Z"
    }
   },
   "outputs": [
    {
     "name": "stdout",
     "output_type": "stream",
     "text": [
      "SVM-LINEAR: 0.515695067264574\n",
      "SVM-RBF: 0.49327354260089684\n",
      "Gaussian Process: 0.5022421524663677\n",
      "Random Forest: 0.5246636771300448\n",
      "AdaBoost: 0.5067264573991032\n",
      "Decision Tree: 0.5336322869955157\n",
      "XGB: 0.4798206278026906\n"
     ]
    }
   ],
   "source": [
    "names = [\n",
    "    \"SVM-LINEAR\", \"SVM-RBF\", \"Gaussian Process\", \"Random Forest\", \"AdaBoost\",\n",
    "    \"Decision Tree\", 'XGB'\n",
    "]\n",
    "\n",
    "classifiers = [\n",
    "    LogisticRegression(),\n",
    "    SVC(kernel=\"linear\"),\n",
    "    SVC(),\n",
    "    DecisionTreeClassifier(),\n",
    "    RandomForestClassifier(),\n",
    "    AdaBoostClassifier(),\n",
    "    XGBClassifier()\n",
    "]\n",
    "\n",
    "# iterate over classifiers\n",
    "for name, clf in zip(names, classifiers):\n",
    "    clf.fit(X_train, y_train)\n",
    "    score = clf.score(X_test, y_test)\n",
    "    print(f'{name}: {score}')"
   ]
  },
  {
   "cell_type": "code",
   "execution_count": 26,
   "metadata": {
    "ExecuteTime": {
     "end_time": "2019-12-11T18:50:48.648727Z",
     "start_time": "2019-12-11T18:50:48.644383Z"
    }
   },
   "outputs": [],
   "source": [
    "xgb_model = XGBClassifier()"
   ]
  },
  {
   "cell_type": "code",
   "execution_count": 27,
   "metadata": {
    "ExecuteTime": {
     "end_time": "2019-12-11T18:50:48.761109Z",
     "start_time": "2019-12-11T18:50:48.651498Z"
    }
   },
   "outputs": [
    {
     "data": {
      "text/plain": [
       "Index(['status', 'shortlong', 'forceIndex', 'trend2min', 'trend5min',\n",
       "       'trend10min', 'trend15min', 'difCand5', 'difOpenClose', 'dojy',\n",
       "       'hammer', 'breakout', 'highGulf', 'lowGulf'],\n",
       "      dtype='object')"
      ]
     },
     "execution_count": 27,
     "metadata": {},
     "output_type": "execute_result"
    }
   ],
   "source": [
    "df.columns"
   ]
  },
  {
   "cell_type": "code",
   "execution_count": 28,
   "metadata": {
    "ExecuteTime": {
     "end_time": "2019-12-11T18:50:49.175660Z",
     "start_time": "2019-12-11T18:50:48.765088Z"
    },
    "scrolled": true
   },
   "outputs": [
    {
     "name": "stdout",
     "output_type": "stream",
     "text": [
      "CPU times: user 288 ms, sys: 3.88 ms, total: 292 ms\n",
      "Wall time: 291 ms\n"
     ]
    },
    {
     "data": {
      "text/plain": [
       "XGBClassifier(base_score=0.5, booster='gbtree', colsample_bylevel=1,\n",
       "              colsample_bynode=1, colsample_bytree=1, gamma=0,\n",
       "              learning_rate=0.1, max_delta_step=0, max_depth=3,\n",
       "              min_child_weight=1, missing=None, n_estimators=100, n_jobs=1,\n",
       "              nthread=None, objective='binary:logistic', random_state=0,\n",
       "              reg_alpha=0, reg_lambda=1, scale_pos_weight=1, seed=None,\n",
       "              silent=None, subsample=1, verbosity=1)"
      ]
     },
     "execution_count": 28,
     "metadata": {},
     "output_type": "execute_result"
    }
   ],
   "source": [
    "eval_set = [(X_train, y_train), (X_test, y_test)]\n",
    "eval_metric = ['auc', 'error']\n",
    "\n",
    "%time xgb_model.fit(X_train, y_train, eval_metric=eval_metric, eval_set=eval_set, verbose=0)"
   ]
  },
  {
   "cell_type": "code",
   "execution_count": 29,
   "metadata": {
    "ExecuteTime": {
     "end_time": "2019-12-11T18:50:49.184146Z",
     "start_time": "2019-12-11T18:50:49.177770Z"
    }
   },
   "outputs": [
    {
     "data": {
      "text/plain": [
       "0.4798206278026906"
      ]
     },
     "execution_count": 29,
     "metadata": {},
     "output_type": "execute_result"
    }
   ],
   "source": [
    "xgb_model.score(X_test, y_test)"
   ]
  },
  {
   "cell_type": "code",
   "execution_count": 30,
   "metadata": {
    "ExecuteTime": {
     "end_time": "2019-12-11T18:50:49.278603Z",
     "start_time": "2019-12-11T18:50:49.186048Z"
    }
   },
   "outputs": [],
   "source": [
    "xgb_model.get_booster().feature_names = [\n",
    "    'shortlong', 'forceIndex', 'trend2min', 'trend5min', 'trend10min',\n",
    "    'trend15min', 'difCand5', 'difOpenClose', 'dojy', 'hammer', 'breakout',\n",
    "    'highGulf', 'lowGulf'\n",
    "]"
   ]
  },
  {
   "cell_type": "code",
   "execution_count": 31,
   "metadata": {
    "ExecuteTime": {
     "end_time": "2019-12-11T18:50:49.710171Z",
     "start_time": "2019-12-11T18:50:49.285447Z"
    }
   },
   "outputs": [
    {
     "data": {
      "text/plain": [
       "<Figure size 1080x504 with 0 Axes>"
      ]
     },
     "metadata": {},
     "output_type": "display_data"
    },
    {
     "data": {
      "image/png": "[encoded data removed]",
      "text/plain": [
       "<Figure size 432x288 with 1 Axes>"
      ]
     },
     "metadata": {
      "needs_background": "light"
     },
     "output_type": "display_data"
    }
   ],
   "source": [
    "plt.figure(figsize=(15, 7))\n",
    "plot_importance(xgb_model, height=0.72)\n",
    "plt.show()"
   ]
  },
  {
   "cell_type": "markdown",
   "metadata": {},
   "source": [
    " "
   ]
  },
  {
   "cell_type": "code",
   "execution_count": 32,
   "metadata": {
    "ExecuteTime": {
     "end_time": "2019-12-11T18:50:49.721250Z",
     "start_time": "2019-12-11T18:50:49.712802Z"
    }
   },
   "outputs": [],
   "source": [
    "X = df.drop(['status', 'hammer', 'lowGulf', 'shortlong', 'dojy'],\n",
    "            axis=1).values\n",
    "y = df['status'].values"
   ]
  },
  {
   "cell_type": "code",
   "execution_count": 33,
   "metadata": {
    "ExecuteTime": {
     "end_time": "2019-12-11T18:50:49.837055Z",
     "start_time": "2019-12-11T18:50:49.723784Z"
    }
   },
   "outputs": [],
   "source": [
    "X = StandardScaler().fit_transform(X)\n",
    "X_train, X_test, Y_train, Y_test = train_test_split(X, y, test_size=0.1)"
   ]
  },
  {
   "cell_type": "code",
   "execution_count": 34,
   "metadata": {
    "ExecuteTime": {
     "end_time": "2019-12-11T18:50:50.811688Z",
     "start_time": "2019-12-11T18:50:49.839704Z"
    }
   },
   "outputs": [
    {
     "name": "stdout",
     "output_type": "stream",
     "text": [
      "CPU times: user 863 ms, sys: 0 ns, total: 863 ms\n",
      "Wall time: 863 ms\n"
     ]
    },
    {
     "data": {
      "text/plain": [
       "0.5022421524663677"
      ]
     },
     "execution_count": 34,
     "metadata": {},
     "output_type": "execute_result"
    }
   ],
   "source": [
    "xgb_model = XGBClassifier(silent=False,\n",
    "                          scale_pos_weight=1,\n",
    "                          colsample_bytree=0.4,\n",
    "                          subsample=0.8,\n",
    "                          objective='binary:logistic',\n",
    "                          n_estimators=1000,\n",
    "                          reg_alpha=0.1,\n",
    "                          max_depth=4,\n",
    "                          gamma=10)\n",
    "\n",
    "%time xgb_model.fit(X_train, y_train, verbose=0)\n",
    "xgb_model.score(X_test, y_test)"
   ]
  },
  {
   "cell_type": "code",
   "execution_count": 35,
   "metadata": {
    "ExecuteTime": {
     "end_time": "2019-12-11T18:50:52.145497Z",
     "start_time": "2019-12-11T18:50:50.813663Z"
    }
   },
   "outputs": [],
   "source": [
    "import tensorflow as tf"
   ]
  },
  {
   "cell_type": "code",
   "execution_count": 36,
   "metadata": {
    "ExecuteTime": {
     "end_time": "2019-12-11T18:50:52.174127Z",
     "start_time": "2019-12-11T18:50:52.147903Z"
    }
   },
   "outputs": [
    {
     "name": "stdout",
     "output_type": "stream",
     "text": [
      "2003 train samples with shape (2003, 9)\n",
      "111 test samples with shape (111, 9)\n",
      "112 val samples with shape (112, 9)\n"
     ]
    }
   ],
   "source": [
    "batch_size = 200\n",
    "input_features = 9\n",
    "num_classes = 2\n",
    "epochs = 100\n",
    "\n",
    "x_train = X_train.reshape(X_train.shape[0], X_train.shape[1])\n",
    "x_test = X_test.reshape(X_test.shape[0], X_test.shape[1])\n",
    "\n",
    "x_train = x_train.astype('float32')\n",
    "test_data = x_test.astype('float32')\n",
    "test_targets = Y_test\n",
    "\n",
    "x_test = test_data[:int(len(test_data) * 0.5)]\n",
    "y_test = test_targets[:int(len(test_targets) * 0.5)]\n",
    "\n",
    "x_val = test_data[int(len(test_data) * 0.5):]\n",
    "y_val = test_targets[int(len(test_targets) * 0.5):]\n",
    "\n",
    "print(f'{x_train.shape[0]} train samples with shape {x_train.shape}')\n",
    "print(f'{x_test.shape[0]} test samples with shape {x_test.shape}')\n",
    "print(f'{x_val.shape[0]} val samples with shape {x_val.shape}')\n",
    "\n",
    "# convert class vectors to binary class matrices\n",
    "y_train = tf.keras.utils.to_categorical(Y_train)\n",
    "y_test = tf.keras.utils.to_categorical(y_test)\n",
    "y_val = tf.keras.utils.to_categorical(y_val)"
   ]
  },
  {
   "cell_type": "code",
   "execution_count": 37,
   "metadata": {
    "ExecuteTime": {
     "end_time": "2019-12-11T18:50:52.506216Z",
     "start_time": "2019-12-11T18:50:52.176774Z"
    }
   },
   "outputs": [
    {
     "name": "stdout",
     "output_type": "stream",
     "text": [
      "Model: \"sequential\"\n",
      "_________________________________________________________________\n",
      "Layer (type)                 Output Shape              Param #   \n",
      "=================================================================\n",
      "dense (Dense)                (None, 50)                500       \n",
      "_________________________________________________________________\n",
      "dropout (Dropout)            (None, 50)                0         \n",
      "_________________________________________________________________\n",
      "dense_1 (Dense)              (None, 100)               5100      \n",
      "_________________________________________________________________\n",
      "dropout_1 (Dropout)          (None, 100)               0         \n",
      "_________________________________________________________________\n",
      "dense_2 (Dense)              (None, 100)               10100     \n",
      "_________________________________________________________________\n",
      "dropout_2 (Dropout)          (None, 100)               0         \n",
      "_________________________________________________________________\n",
      "dense_3 (Dense)              (None, 2)                 202       \n",
      "=================================================================\n",
      "Total params: 15,902\n",
      "Trainable params: 15,902\n",
      "Non-trainable params: 0\n",
      "_________________________________________________________________\n"
     ]
    }
   ],
   "source": [
    "try:\n",
    "    if model:\n",
    "        del model\n",
    "except NameError:\n",
    "    pass\n",
    "\n",
    "model = tf.keras.models.Sequential([\n",
    "    tf.keras.layers.Dense(50,\n",
    "                          activation='relu',\n",
    "                          input_shape=(input_features, )),\n",
    "    tf.keras.layers.Dropout(0.3),\n",
    "    tf.keras.layers.Dense(100, activation='relu'),\n",
    "    tf.keras.layers.Dropout(0.2),\n",
    "    tf.keras.layers.Dense(100, activation='relu'),\n",
    "    tf.keras.layers.Dropout(0.1),\n",
    "    tf.keras.layers.Dense(num_classes, activation='softmax')\n",
    "])\n",
    "\n",
    "model.compile(loss='categorical_crossentropy',\n",
    "              optimizer=tf.keras.optimizers.Adam(learning_rate=0.0009),\n",
    "              metrics=['accuracy'])\n",
    "\n",
    "model.summary()"
   ]
  },
  {
   "cell_type": "code",
   "execution_count": 38,
   "metadata": {
    "ExecuteTime": {
     "end_time": "2019-12-11T18:50:53.904587Z",
     "start_time": "2019-12-11T18:50:52.508420Z"
    },
    "scrolled": true
   },
   "outputs": [
    {
     "name": "stdout",
     "output_type": "stream",
     "text": [
      "Train on 2003 samples, validate on 112 samples\n",
      "Epoch 1/100\n",
      "2003/2003 - 1s - loss: 0.6963 - accuracy: 0.4848 - val_loss: 0.6866 - val_accuracy: 0.5268\n",
      "Epoch 2/100\n",
      "2003/2003 - 0s - loss: 0.6949 - accuracy: 0.5137 - val_loss: 0.6823 - val_accuracy: 0.5357\n",
      "Epoch 3/100\n",
      "2003/2003 - 0s - loss: 0.6924 - accuracy: 0.5197 - val_loss: 0.6869 - val_accuracy: 0.5446\n"
     ]
    }
   ],
   "source": [
    "history = model.fit(x_train,\n",
    "                    y_train,\n",
    "                    batch_size=batch_size,\n",
    "                    epochs=epochs,\n",
    "                    verbose=2,\n",
    "                    callbacks=[tf.keras.callbacks.EarlyStopping()],\n",
    "                    validation_data=(x_val, y_val))"
   ]
  },
  {
   "cell_type": "code",
   "execution_count": 39,
   "metadata": {
    "ExecuteTime": {
     "end_time": "2019-12-11T18:50:54.381541Z",
     "start_time": "2019-12-11T18:50:53.907080Z"
    }
   },
   "outputs": [
    {
     "data": {
      "image/png": "[encoded data removed]",
      "text/plain": [
       "<Figure size 1008x432 with 1 Axes>"
      ]
     },
     "metadata": {
      "needs_background": "light"
     },
     "output_type": "display_data"
    }
   ],
   "source": [
    "plt.figure(figsize=(14, 6))\n",
    "plt.plot(history.history['loss'], label='true')\n",
    "plt.plot(history.history['val_loss'], label='pred')\n",
    "plt.legend(loc='best')\n",
    "plt.show()"
   ]
  },
  {
   "cell_type": "code",
   "execution_count": 40,
   "metadata": {
    "ExecuteTime": {
     "end_time": "2019-12-11T18:50:54.449595Z",
     "start_time": "2019-12-11T18:50:54.383541Z"
    }
   },
   "outputs": [
    {
     "name": "stdout",
     "output_type": "stream",
     "text": [
      "Test loss: 0.6867237918011777\n",
      "Test accuracy: 0.5855856\n"
     ]
    }
   ],
   "source": [
    "score = model.evaluate(x_test, y_test, verbose=0)\n",
    "print('Test loss:', score[0])\n",
    "print('Test accuracy:', score[1])"
   ]
  },
  {
   "cell_type": "code",
   "execution_count": 41,
   "metadata": {
    "ExecuteTime": {
     "end_time": "2019-12-11T18:50:54.578970Z",
     "start_time": "2019-12-11T18:50:54.452246Z"
    }
   },
   "outputs": [],
   "source": [
    "model.save('MLP_0.77ACC_NADAM_45EPO_CATCROSS_2L_50_DROP0.2_100_DROP0.2_SOFTMAX.h5')"
   ]
  },
  {
   "cell_type": "code",
   "execution_count": null,
   "metadata": {},
   "outputs": [],
   "source": []
  }
 ],
 "metadata": {
  "kernelspec": {
   "display_name": "Python 3",
   "language": "python",
   "name": "python3"
  },
  "language_info": {
   "codemirror_mode": {
    "name": "ipython",
    "version": 3
   },
   "file_extension": ".py",
   "mimetype": "text/x-python",
   "name": "python",
   "nbconvert_exporter": "python",
   "pygments_lexer": "ipython3",
   "version": "3.7.4"
  }
 },
 "nbformat": 4,
 "nbformat_minor": 2
}
