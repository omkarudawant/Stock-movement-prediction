{
 "cells": [
  {
   "cell_type": "code",
   "execution_count": 1,
   "metadata": {
    "ExecuteTime": {
     "end_time": "2019-12-02T19:13:50.894250Z",
     "start_time": "2019-12-02T19:13:49.869209Z"
    }
   },
   "outputs": [],
   "source": [
    "from warnings import filterwarnings\n",
    "filterwarnings('ignore')\n",
    "from sklearn.preprocessing import OneHotEncoder\n",
    "%matplotlib inline \n",
    "\n",
    "import pandas as pd\n",
    "import numpy as np\n",
    "import os\n",
    "import matplotlib.pyplot as plt\n",
    "import seaborn as sns \n",
    "sns.set_style('darkgrid')"
   ]
  },
  {
   "cell_type": "code",
   "execution_count": 2,
   "metadata": {
    "ExecuteTime": {
     "end_time": "2019-12-02T19:13:50.932558Z",
     "start_time": "2019-12-02T19:13:50.897063Z"
    }
   },
   "outputs": [
    {
     "data": {
      "text/html": [
       "<div>\n",
       "<style scoped>\n",
       "    .dataframe tbody tr th:only-of-type {\n",
       "        vertical-align: middle;\n",
       "    }\n",
       "\n",
       "    .dataframe tbody tr th {\n",
       "        vertical-align: top;\n",
       "    }\n",
       "\n",
       "    .dataframe thead th {\n",
       "        text-align: right;\n",
       "    }\n",
       "</style>\n",
       "<table border=\"1\" class=\"dataframe\">\n",
       "  <thead>\n",
       "    <tr style=\"text-align: right;\">\n",
       "      <th></th>\n",
       "      <th>status</th>\n",
       "      <th>shortlong</th>\n",
       "      <th>forceIndex</th>\n",
       "      <th>trend2min</th>\n",
       "      <th>trend5min</th>\n",
       "      <th>trend10min</th>\n",
       "      <th>trend15min</th>\n",
       "      <th>difCand5</th>\n",
       "      <th>buildDate</th>\n",
       "      <th>difOpenClose</th>\n",
       "      <th>dojy</th>\n",
       "      <th>hammer</th>\n",
       "      <th>breakout</th>\n",
       "      <th>highGulf</th>\n",
       "      <th>lowGulf</th>\n",
       "    </tr>\n",
       "  </thead>\n",
       "  <tbody>\n",
       "    <tr>\n",
       "      <th>4570</th>\n",
       "      <td>GAIN</td>\n",
       "      <td>COMPRADO</td>\n",
       "      <td>100</td>\n",
       "      <td>90</td>\n",
       "      <td>130</td>\n",
       "      <td>120</td>\n",
       "      <td>65</td>\n",
       "      <td>100</td>\n",
       "      <td>1573673099000</td>\n",
       "      <td>110</td>\n",
       "      <td>False</td>\n",
       "      <td>False</td>\n",
       "      <td>False</td>\n",
       "      <td>False</td>\n",
       "      <td>False</td>\n",
       "    </tr>\n",
       "    <tr>\n",
       "      <th>4571</th>\n",
       "      <td>GAIN</td>\n",
       "      <td>COMPRADO</td>\n",
       "      <td>140</td>\n",
       "      <td>-50</td>\n",
       "      <td>100</td>\n",
       "      <td>155</td>\n",
       "      <td>255</td>\n",
       "      <td>140</td>\n",
       "      <td>1573673399000</td>\n",
       "      <td>-50</td>\n",
       "      <td>False</td>\n",
       "      <td>False</td>\n",
       "      <td>False</td>\n",
       "      <td>False</td>\n",
       "      <td>False</td>\n",
       "    </tr>\n",
       "    <tr>\n",
       "      <th>4572</th>\n",
       "      <td>LOSS</td>\n",
       "      <td>COMPRADO</td>\n",
       "      <td>140</td>\n",
       "      <td>165</td>\n",
       "      <td>220</td>\n",
       "      <td>100</td>\n",
       "      <td>120</td>\n",
       "      <td>140</td>\n",
       "      <td>1573673699000</td>\n",
       "      <td>185</td>\n",
       "      <td>False</td>\n",
       "      <td>False</td>\n",
       "      <td>False</td>\n",
       "      <td>False</td>\n",
       "      <td>False</td>\n",
       "    </tr>\n",
       "    <tr>\n",
       "      <th>4573</th>\n",
       "      <td>LOSS</td>\n",
       "      <td>COMPRADO</td>\n",
       "      <td>80</td>\n",
       "      <td>20</td>\n",
       "      <td>75</td>\n",
       "      <td>80</td>\n",
       "      <td>125</td>\n",
       "      <td>80</td>\n",
       "      <td>1573674299000</td>\n",
       "      <td>50</td>\n",
       "      <td>False</td>\n",
       "      <td>False</td>\n",
       "      <td>False</td>\n",
       "      <td>False</td>\n",
       "      <td>False</td>\n",
       "    </tr>\n",
       "    <tr>\n",
       "      <th>4574</th>\n",
       "      <td>GAIN</td>\n",
       "      <td>COMPRADO</td>\n",
       "      <td>95</td>\n",
       "      <td>15</td>\n",
       "      <td>30</td>\n",
       "      <td>80</td>\n",
       "      <td>30</td>\n",
       "      <td>95</td>\n",
       "      <td>1573675499000</td>\n",
       "      <td>10</td>\n",
       "      <td>False</td>\n",
       "      <td>False</td>\n",
       "      <td>False</td>\n",
       "      <td>False</td>\n",
       "      <td>False</td>\n",
       "    </tr>\n",
       "  </tbody>\n",
       "</table>\n",
       "</div>"
      ],
      "text/plain": [
       "     status shortlong  forceIndex  trend2min  trend5min  trend10min  \\\n",
       "4570   GAIN  COMPRADO         100         90        130         120   \n",
       "4571   GAIN  COMPRADO         140        -50        100         155   \n",
       "4572   LOSS  COMPRADO         140        165        220         100   \n",
       "4573   LOSS  COMPRADO          80         20         75          80   \n",
       "4574   GAIN  COMPRADO          95         15         30          80   \n",
       "\n",
       "      trend15min  difCand5      buildDate  difOpenClose   dojy  hammer  \\\n",
       "4570          65       100  1573673099000           110  False   False   \n",
       "4571         255       140  1573673399000           -50  False   False   \n",
       "4572         120       140  1573673699000           185  False   False   \n",
       "4573         125        80  1573674299000            50  False   False   \n",
       "4574          30        95  1573675499000            10  False   False   \n",
       "\n",
       "      breakout  highGulf  lowGulf  \n",
       "4570     False     False    False  \n",
       "4571     False     False    False  \n",
       "4572     False     False    False  \n",
       "4573     False     False    False  \n",
       "4574     False     False    False  "
      ]
     },
     "execution_count": 2,
     "metadata": {},
     "output_type": "execute_result"
    }
   ],
   "source": [
    "df = pd.read_csv('ML_Input_Model_Train.csv', delimiter=';')\n",
    "df.tail()"
   ]
  },
  {
   "cell_type": "code",
   "execution_count": 3,
   "metadata": {
    "ExecuteTime": {
     "end_time": "2019-12-02T19:13:51.026552Z",
     "start_time": "2019-12-02T19:13:50.934989Z"
    }
   },
   "outputs": [
    {
     "name": "stdout",
     "output_type": "stream",
     "text": [
      "2\n",
      "4575\n"
     ]
    }
   ],
   "source": [
    "print(len(df['shortlong'].unique()))\n",
    "print(len(df['buildDate'].unique()))"
   ]
  },
  {
   "cell_type": "code",
   "execution_count": 4,
   "metadata": {
    "ExecuteTime": {
     "end_time": "2019-12-02T19:13:51.137263Z",
     "start_time": "2019-12-02T19:13:51.031455Z"
    }
   },
   "outputs": [
    {
     "data": {
      "text/html": [
       "<div>\n",
       "<style scoped>\n",
       "    .dataframe tbody tr th:only-of-type {\n",
       "        vertical-align: middle;\n",
       "    }\n",
       "\n",
       "    .dataframe tbody tr th {\n",
       "        vertical-align: top;\n",
       "    }\n",
       "\n",
       "    .dataframe thead th {\n",
       "        text-align: right;\n",
       "    }\n",
       "</style>\n",
       "<table border=\"1\" class=\"dataframe\">\n",
       "  <thead>\n",
       "    <tr style=\"text-align: right;\">\n",
       "      <th></th>\n",
       "      <th>status</th>\n",
       "      <th>shortlong</th>\n",
       "      <th>forceIndex</th>\n",
       "      <th>trend2min</th>\n",
       "      <th>trend5min</th>\n",
       "      <th>trend10min</th>\n",
       "      <th>trend15min</th>\n",
       "      <th>difCand5</th>\n",
       "      <th>difOpenClose</th>\n",
       "      <th>dojy</th>\n",
       "      <th>hammer</th>\n",
       "      <th>breakout</th>\n",
       "      <th>highGulf</th>\n",
       "      <th>lowGulf</th>\n",
       "    </tr>\n",
       "  </thead>\n",
       "  <tbody>\n",
       "    <tr>\n",
       "      <th>4570</th>\n",
       "      <td>GAIN</td>\n",
       "      <td>COMPRADO</td>\n",
       "      <td>100</td>\n",
       "      <td>90</td>\n",
       "      <td>130</td>\n",
       "      <td>120</td>\n",
       "      <td>65</td>\n",
       "      <td>100</td>\n",
       "      <td>110</td>\n",
       "      <td>False</td>\n",
       "      <td>False</td>\n",
       "      <td>False</td>\n",
       "      <td>False</td>\n",
       "      <td>False</td>\n",
       "    </tr>\n",
       "    <tr>\n",
       "      <th>4571</th>\n",
       "      <td>GAIN</td>\n",
       "      <td>COMPRADO</td>\n",
       "      <td>140</td>\n",
       "      <td>-50</td>\n",
       "      <td>100</td>\n",
       "      <td>155</td>\n",
       "      <td>255</td>\n",
       "      <td>140</td>\n",
       "      <td>-50</td>\n",
       "      <td>False</td>\n",
       "      <td>False</td>\n",
       "      <td>False</td>\n",
       "      <td>False</td>\n",
       "      <td>False</td>\n",
       "    </tr>\n",
       "    <tr>\n",
       "      <th>4572</th>\n",
       "      <td>LOSS</td>\n",
       "      <td>COMPRADO</td>\n",
       "      <td>140</td>\n",
       "      <td>165</td>\n",
       "      <td>220</td>\n",
       "      <td>100</td>\n",
       "      <td>120</td>\n",
       "      <td>140</td>\n",
       "      <td>185</td>\n",
       "      <td>False</td>\n",
       "      <td>False</td>\n",
       "      <td>False</td>\n",
       "      <td>False</td>\n",
       "      <td>False</td>\n",
       "    </tr>\n",
       "    <tr>\n",
       "      <th>4573</th>\n",
       "      <td>LOSS</td>\n",
       "      <td>COMPRADO</td>\n",
       "      <td>80</td>\n",
       "      <td>20</td>\n",
       "      <td>75</td>\n",
       "      <td>80</td>\n",
       "      <td>125</td>\n",
       "      <td>80</td>\n",
       "      <td>50</td>\n",
       "      <td>False</td>\n",
       "      <td>False</td>\n",
       "      <td>False</td>\n",
       "      <td>False</td>\n",
       "      <td>False</td>\n",
       "    </tr>\n",
       "    <tr>\n",
       "      <th>4574</th>\n",
       "      <td>GAIN</td>\n",
       "      <td>COMPRADO</td>\n",
       "      <td>95</td>\n",
       "      <td>15</td>\n",
       "      <td>30</td>\n",
       "      <td>80</td>\n",
       "      <td>30</td>\n",
       "      <td>95</td>\n",
       "      <td>10</td>\n",
       "      <td>False</td>\n",
       "      <td>False</td>\n",
       "      <td>False</td>\n",
       "      <td>False</td>\n",
       "      <td>False</td>\n",
       "    </tr>\n",
       "  </tbody>\n",
       "</table>\n",
       "</div>"
      ],
      "text/plain": [
       "     status shortlong  forceIndex  trend2min  trend5min  trend10min  \\\n",
       "4570   GAIN  COMPRADO         100         90        130         120   \n",
       "4571   GAIN  COMPRADO         140        -50        100         155   \n",
       "4572   LOSS  COMPRADO         140        165        220         100   \n",
       "4573   LOSS  COMPRADO          80         20         75          80   \n",
       "4574   GAIN  COMPRADO          95         15         30          80   \n",
       "\n",
       "      trend15min  difCand5  difOpenClose   dojy  hammer  breakout  highGulf  \\\n",
       "4570          65       100           110  False   False     False     False   \n",
       "4571         255       140           -50  False   False     False     False   \n",
       "4572         120       140           185  False   False     False     False   \n",
       "4573         125        80            50  False   False     False     False   \n",
       "4574          30        95            10  False   False     False     False   \n",
       "\n",
       "      lowGulf  \n",
       "4570    False  \n",
       "4571    False  \n",
       "4572    False  \n",
       "4573    False  \n",
       "4574    False  "
      ]
     },
     "execution_count": 4,
     "metadata": {},
     "output_type": "execute_result"
    }
   ],
   "source": [
    "df.drop('buildDate', axis=1, inplace=True)\n",
    "df.tail()"
   ]
  },
  {
   "cell_type": "code",
   "execution_count": 5,
   "metadata": {
    "ExecuteTime": {
     "end_time": "2019-12-02T19:13:51.246638Z",
     "start_time": "2019-12-02T19:13:51.140021Z"
    }
   },
   "outputs": [
    {
     "data": {
      "text/plain": [
       "Index(['status', 'shortlong', 'forceIndex', 'trend2min', 'trend5min',\n",
       "       'trend10min', 'trend15min', 'difCand5', 'difOpenClose', 'dojy',\n",
       "       'hammer', 'breakout', 'highGulf', 'lowGulf'],\n",
       "      dtype='object')"
      ]
     },
     "execution_count": 5,
     "metadata": {},
     "output_type": "execute_result"
    }
   ],
   "source": [
    "df.columns"
   ]
  },
  {
   "cell_type": "code",
   "execution_count": 6,
   "metadata": {
    "ExecuteTime": {
     "end_time": "2019-12-02T19:13:51.359778Z",
     "start_time": "2019-12-02T19:13:51.251258Z"
    }
   },
   "outputs": [],
   "source": [
    "df['dojy'] = df['dojy'].astype('int')\n",
    "df['hammer'] = df['hammer'].astype('int')\n",
    "df['breakout'] = df['breakout'].astype('int') \n",
    "df['highGulf'] = df['highGulf'].astype('int') \n",
    "df['lowGulf'] = df['lowGulf'].astype('int')"
   ]
  },
  {
   "cell_type": "code",
   "execution_count": 7,
   "metadata": {},
   "outputs": [
    {
     "data": {
      "text/html": [
       "<div>\n",
       "<style scoped>\n",
       "    .dataframe tbody tr th:only-of-type {\n",
       "        vertical-align: middle;\n",
       "    }\n",
       "\n",
       "    .dataframe tbody tr th {\n",
       "        vertical-align: top;\n",
       "    }\n",
       "\n",
       "    .dataframe thead th {\n",
       "        text-align: right;\n",
       "    }\n",
       "</style>\n",
       "<table border=\"1\" class=\"dataframe\">\n",
       "  <thead>\n",
       "    <tr style=\"text-align: right;\">\n",
       "      <th></th>\n",
       "      <th>status</th>\n",
       "      <th>shortlong</th>\n",
       "      <th>forceIndex</th>\n",
       "      <th>trend2min</th>\n",
       "      <th>trend5min</th>\n",
       "      <th>trend10min</th>\n",
       "      <th>trend15min</th>\n",
       "      <th>difCand5</th>\n",
       "      <th>difOpenClose</th>\n",
       "      <th>dojy</th>\n",
       "      <th>hammer</th>\n",
       "      <th>breakout</th>\n",
       "      <th>highGulf</th>\n",
       "      <th>lowGulf</th>\n",
       "    </tr>\n",
       "  </thead>\n",
       "  <tbody>\n",
       "    <tr>\n",
       "      <th>4570</th>\n",
       "      <td>GAIN</td>\n",
       "      <td>COMPRADO</td>\n",
       "      <td>100</td>\n",
       "      <td>90</td>\n",
       "      <td>130</td>\n",
       "      <td>120</td>\n",
       "      <td>65</td>\n",
       "      <td>100</td>\n",
       "      <td>110</td>\n",
       "      <td>0</td>\n",
       "      <td>0</td>\n",
       "      <td>0</td>\n",
       "      <td>0</td>\n",
       "      <td>0</td>\n",
       "    </tr>\n",
       "    <tr>\n",
       "      <th>4571</th>\n",
       "      <td>GAIN</td>\n",
       "      <td>COMPRADO</td>\n",
       "      <td>140</td>\n",
       "      <td>-50</td>\n",
       "      <td>100</td>\n",
       "      <td>155</td>\n",
       "      <td>255</td>\n",
       "      <td>140</td>\n",
       "      <td>-50</td>\n",
       "      <td>0</td>\n",
       "      <td>0</td>\n",
       "      <td>0</td>\n",
       "      <td>0</td>\n",
       "      <td>0</td>\n",
       "    </tr>\n",
       "    <tr>\n",
       "      <th>4572</th>\n",
       "      <td>LOSS</td>\n",
       "      <td>COMPRADO</td>\n",
       "      <td>140</td>\n",
       "      <td>165</td>\n",
       "      <td>220</td>\n",
       "      <td>100</td>\n",
       "      <td>120</td>\n",
       "      <td>140</td>\n",
       "      <td>185</td>\n",
       "      <td>0</td>\n",
       "      <td>0</td>\n",
       "      <td>0</td>\n",
       "      <td>0</td>\n",
       "      <td>0</td>\n",
       "    </tr>\n",
       "    <tr>\n",
       "      <th>4573</th>\n",
       "      <td>LOSS</td>\n",
       "      <td>COMPRADO</td>\n",
       "      <td>80</td>\n",
       "      <td>20</td>\n",
       "      <td>75</td>\n",
       "      <td>80</td>\n",
       "      <td>125</td>\n",
       "      <td>80</td>\n",
       "      <td>50</td>\n",
       "      <td>0</td>\n",
       "      <td>0</td>\n",
       "      <td>0</td>\n",
       "      <td>0</td>\n",
       "      <td>0</td>\n",
       "    </tr>\n",
       "    <tr>\n",
       "      <th>4574</th>\n",
       "      <td>GAIN</td>\n",
       "      <td>COMPRADO</td>\n",
       "      <td>95</td>\n",
       "      <td>15</td>\n",
       "      <td>30</td>\n",
       "      <td>80</td>\n",
       "      <td>30</td>\n",
       "      <td>95</td>\n",
       "      <td>10</td>\n",
       "      <td>0</td>\n",
       "      <td>0</td>\n",
       "      <td>0</td>\n",
       "      <td>0</td>\n",
       "      <td>0</td>\n",
       "    </tr>\n",
       "  </tbody>\n",
       "</table>\n",
       "</div>"
      ],
      "text/plain": [
       "     status shortlong  forceIndex  trend2min  trend5min  trend10min  \\\n",
       "4570   GAIN  COMPRADO         100         90        130         120   \n",
       "4571   GAIN  COMPRADO         140        -50        100         155   \n",
       "4572   LOSS  COMPRADO         140        165        220         100   \n",
       "4573   LOSS  COMPRADO          80         20         75          80   \n",
       "4574   GAIN  COMPRADO          95         15         30          80   \n",
       "\n",
       "      trend15min  difCand5  difOpenClose  dojy  hammer  breakout  highGulf  \\\n",
       "4570          65       100           110     0       0         0         0   \n",
       "4571         255       140           -50     0       0         0         0   \n",
       "4572         120       140           185     0       0         0         0   \n",
       "4573         125        80            50     0       0         0         0   \n",
       "4574          30        95            10     0       0         0         0   \n",
       "\n",
       "      lowGulf  \n",
       "4570        0  \n",
       "4571        0  \n",
       "4572        0  \n",
       "4573        0  \n",
       "4574        0  "
      ]
     },
     "execution_count": 7,
     "metadata": {},
     "output_type": "execute_result"
    }
   ],
   "source": [
    "df.tail()"
   ]
  },
  {
   "cell_type": "code",
   "execution_count": 8,
   "metadata": {},
   "outputs": [
    {
     "name": "stdout",
     "output_type": "stream",
     "text": [
      "['GAIN' 'LOSS' 'COMPRADO' 'VENDIDO']\n",
      "['VENDIDO' 'COMPRADO']\n"
     ]
    }
   ],
   "source": [
    "print(df['status'].unique())\n",
    "print(df['shortlong'].unique())"
   ]
  },
  {
   "cell_type": "code",
   "execution_count": 9,
   "metadata": {
    "ExecuteTime": {
     "end_time": "2019-12-02T19:13:51.462806Z",
     "start_time": "2019-12-02T19:13:51.362637Z"
    }
   },
   "outputs": [],
   "source": [
    "df['status'].replace(to_replace='GAIN', value=1, inplace=True)\n",
    "df['status'].replace(to_replace='LOSS', value=0, inplace=True)\n",
    "df['status'].replace(to_replace='COMPRADO', value=2, inplace=True)\n",
    "df['status'].replace(to_replace='VENDIDO', value=3, inplace=True)\n",
    "\n",
    "df['shortlong'].replace(to_replace='COMPRADO', value=1, inplace=True)\n",
    "df['shortlong'].replace(to_replace='VENDIDO', value=0, inplace=True)"
   ]
  },
  {
   "cell_type": "code",
   "execution_count": 10,
   "metadata": {},
   "outputs": [
    {
     "data": {
      "text/html": [
       "<div>\n",
       "<style scoped>\n",
       "    .dataframe tbody tr th:only-of-type {\n",
       "        vertical-align: middle;\n",
       "    }\n",
       "\n",
       "    .dataframe tbody tr th {\n",
       "        vertical-align: top;\n",
       "    }\n",
       "\n",
       "    .dataframe thead th {\n",
       "        text-align: right;\n",
       "    }\n",
       "</style>\n",
       "<table border=\"1\" class=\"dataframe\">\n",
       "  <thead>\n",
       "    <tr style=\"text-align: right;\">\n",
       "      <th></th>\n",
       "      <th>status</th>\n",
       "      <th>shortlong</th>\n",
       "      <th>forceIndex</th>\n",
       "      <th>trend2min</th>\n",
       "      <th>trend5min</th>\n",
       "      <th>trend10min</th>\n",
       "      <th>trend15min</th>\n",
       "      <th>difCand5</th>\n",
       "      <th>difOpenClose</th>\n",
       "      <th>dojy</th>\n",
       "      <th>hammer</th>\n",
       "      <th>breakout</th>\n",
       "      <th>highGulf</th>\n",
       "      <th>lowGulf</th>\n",
       "    </tr>\n",
       "  </thead>\n",
       "  <tbody>\n",
       "    <tr>\n",
       "      <th>4570</th>\n",
       "      <td>1</td>\n",
       "      <td>1</td>\n",
       "      <td>100</td>\n",
       "      <td>90</td>\n",
       "      <td>130</td>\n",
       "      <td>120</td>\n",
       "      <td>65</td>\n",
       "      <td>100</td>\n",
       "      <td>110</td>\n",
       "      <td>0</td>\n",
       "      <td>0</td>\n",
       "      <td>0</td>\n",
       "      <td>0</td>\n",
       "      <td>0</td>\n",
       "    </tr>\n",
       "    <tr>\n",
       "      <th>4571</th>\n",
       "      <td>1</td>\n",
       "      <td>1</td>\n",
       "      <td>140</td>\n",
       "      <td>-50</td>\n",
       "      <td>100</td>\n",
       "      <td>155</td>\n",
       "      <td>255</td>\n",
       "      <td>140</td>\n",
       "      <td>-50</td>\n",
       "      <td>0</td>\n",
       "      <td>0</td>\n",
       "      <td>0</td>\n",
       "      <td>0</td>\n",
       "      <td>0</td>\n",
       "    </tr>\n",
       "    <tr>\n",
       "      <th>4572</th>\n",
       "      <td>0</td>\n",
       "      <td>1</td>\n",
       "      <td>140</td>\n",
       "      <td>165</td>\n",
       "      <td>220</td>\n",
       "      <td>100</td>\n",
       "      <td>120</td>\n",
       "      <td>140</td>\n",
       "      <td>185</td>\n",
       "      <td>0</td>\n",
       "      <td>0</td>\n",
       "      <td>0</td>\n",
       "      <td>0</td>\n",
       "      <td>0</td>\n",
       "    </tr>\n",
       "    <tr>\n",
       "      <th>4573</th>\n",
       "      <td>0</td>\n",
       "      <td>1</td>\n",
       "      <td>80</td>\n",
       "      <td>20</td>\n",
       "      <td>75</td>\n",
       "      <td>80</td>\n",
       "      <td>125</td>\n",
       "      <td>80</td>\n",
       "      <td>50</td>\n",
       "      <td>0</td>\n",
       "      <td>0</td>\n",
       "      <td>0</td>\n",
       "      <td>0</td>\n",
       "      <td>0</td>\n",
       "    </tr>\n",
       "    <tr>\n",
       "      <th>4574</th>\n",
       "      <td>1</td>\n",
       "      <td>1</td>\n",
       "      <td>95</td>\n",
       "      <td>15</td>\n",
       "      <td>30</td>\n",
       "      <td>80</td>\n",
       "      <td>30</td>\n",
       "      <td>95</td>\n",
       "      <td>10</td>\n",
       "      <td>0</td>\n",
       "      <td>0</td>\n",
       "      <td>0</td>\n",
       "      <td>0</td>\n",
       "      <td>0</td>\n",
       "    </tr>\n",
       "  </tbody>\n",
       "</table>\n",
       "</div>"
      ],
      "text/plain": [
       "      status  shortlong  forceIndex  trend2min  trend5min  trend10min  \\\n",
       "4570       1          1         100         90        130         120   \n",
       "4571       1          1         140        -50        100         155   \n",
       "4572       0          1         140        165        220         100   \n",
       "4573       0          1          80         20         75          80   \n",
       "4574       1          1          95         15         30          80   \n",
       "\n",
       "      trend15min  difCand5  difOpenClose  dojy  hammer  breakout  highGulf  \\\n",
       "4570          65       100           110     0       0         0         0   \n",
       "4571         255       140           -50     0       0         0         0   \n",
       "4572         120       140           185     0       0         0         0   \n",
       "4573         125        80            50     0       0         0         0   \n",
       "4574          30        95            10     0       0         0         0   \n",
       "\n",
       "      lowGulf  \n",
       "4570        0  \n",
       "4571        0  \n",
       "4572        0  \n",
       "4573        0  \n",
       "4574        0  "
      ]
     },
     "execution_count": 10,
     "metadata": {},
     "output_type": "execute_result"
    }
   ],
   "source": [
    "df.tail()"
   ]
  },
  {
   "cell_type": "code",
   "execution_count": 11,
   "metadata": {
    "ExecuteTime": {
     "end_time": "2019-12-02T19:21:33.742197Z",
     "start_time": "2019-12-02T19:21:33.730518Z"
    }
   },
   "outputs": [],
   "source": [
    "X = df.drop('status', axis=1).values\n",
    "y = df['status'].values"
   ]
  },
  {
   "cell_type": "code",
   "execution_count": 12,
   "metadata": {},
   "outputs": [
    {
     "name": "stdout",
     "output_type": "stream",
     "text": [
      "[[   0   95  -45  -75 -120  -60  -95  -50    0    0    0    0    0]\n",
      " [   0  130   15   10   60  -65 -130    0    1    0    0    0    0]\n",
      " [   0  105  -60  -15   -5  -85 -105  -60    0    0    0    0    0]\n",
      " [   1   85  -40  -10   15   75   85  -25    0    0    0    0    0]\n",
      " [   0  120 -125 -175 -140 -185 -120 -100    0    0    0    0    0]] [1 1 0 1 1]\n"
     ]
    }
   ],
   "source": [
    "print(X[:5], y[:5])"
   ]
  },
  {
   "cell_type": "code",
   "execution_count": 13,
   "metadata": {
    "ExecuteTime": {
     "end_time": "2019-12-02T19:19:25.169646Z",
     "start_time": "2019-12-02T19:19:25.162346Z"
    }
   },
   "outputs": [],
   "source": [
    "from sklearn.preprocessing import StandardScaler\n",
    "from sklearn.model_selection import train_test_split\n",
    "from xgboost import XGBClassifier\n",
    "from sklearn.linear_model import LogisticRegression\n",
    "from sklearn.svm import SVC\n",
    "from sklearn.ensemble import RandomForestClassifier, AdaBoostClassifier\n",
    "from sklearn.tree import DecisionTreeClassifier"
   ]
  },
  {
   "cell_type": "code",
   "execution_count": 14,
   "metadata": {
    "ExecuteTime": {
     "end_time": "2019-12-02T19:21:54.557321Z",
     "start_time": "2019-12-02T19:21:54.551249Z"
    }
   },
   "outputs": [],
   "source": [
    "X = StandardScaler().fit_transform(X)"
   ]
  },
  {
   "cell_type": "code",
   "execution_count": 15,
   "metadata": {
    "ExecuteTime": {
     "end_time": "2019-12-02T19:21:55.786240Z",
     "start_time": "2019-12-02T19:21:55.780935Z"
    }
   },
   "outputs": [],
   "source": [
    "X_train, X_test, y_train, y_test = train_test_split(X,\n",
    "                                                    y,\n",
    "                                                    test_size=0.25)"
   ]
  },
  {
   "cell_type": "code",
   "execution_count": 16,
   "metadata": {
    "ExecuteTime": {
     "end_time": "2019-12-02T19:33:59.776246Z",
     "start_time": "2019-12-02T19:33:59.664690Z"
    }
   },
   "outputs": [
    {
     "name": "stdout",
     "output_type": "stream",
     "text": [
      "SVM-LINEAR: 0.7552447552447552\n",
      "SVM-RBF: 0.7561188811188811\n",
      "Gaussian Process: 0.7561188811188811\n",
      "Random Forest: 0.6092657342657343\n",
      "AdaBoost: 0.7395104895104895\n",
      "Decision Tree: 0.6756993006993007\n"
     ]
    }
   ],
   "source": [
    "names = [\n",
    "    \"SVM-LINEAR\", \"SVM-RBF\", \"Gaussian Process\", \"Random Forest\",\n",
    "    \"AdaBoost\", \"Decision Tree\"\n",
    "]\n",
    "\n",
    "classifiers = [\n",
    "    LogisticRegression(),\n",
    "    SVC(kernel=\"linear\"),\n",
    "    SVC(),\n",
    "    DecisionTreeClassifier(),\n",
    "    RandomForestClassifier(),\n",
    "    AdaBoostClassifier(),\n",
    "    XGBClassifier()\n",
    "]\n",
    "\n",
    "# iterate over classifiers\n",
    "for name, clf in zip(names, classifiers):\n",
    "    clf.fit(X_train, y_train)\n",
    "    score = clf.score(X_test, y_test)\n",
    "    print(f'{name}: {score}')"
   ]
  },
  {
   "cell_type": "code",
   "execution_count": 32,
   "metadata": {},
   "outputs": [],
   "source": [
    "from keras.models import Sequential\n",
    "from keras.layers import Dense, Dropout\n",
    "from keras.utils import to_categorical\n",
    "from sklearn import metrics"
   ]
  },
  {
   "cell_type": "code",
   "execution_count": 39,
   "metadata": {},
   "outputs": [
    {
     "name": "stdout",
     "output_type": "stream",
     "text": [
      "Model: \"sequential_9\"\n",
      "_________________________________________________________________\n",
      "Layer (type)                 Output Shape              Param #   \n",
      "=================================================================\n",
      "dense_17 (Dense)             (None, 100)               1400      \n",
      "_________________________________________________________________\n",
      "dense_18 (Dense)             (None, 4)                 404       \n",
      "=================================================================\n",
      "Total params: 1,804\n",
      "Trainable params: 1,804\n",
      "Non-trainable params: 0\n",
      "_________________________________________________________________\n"
     ]
    }
   ],
   "source": [
    "mlp = Sequential()\n",
    "mlp.add(Dense(100, activation='relu', input_dim=X_train.shape[1]))\n",
    "mlp.add(Dense(4, activation='sigmoid'))\n",
    "mlp.compile(loss='categorical_crossentropy', optimizer='adam')\n",
    "mlp.summary()"
   ]
  },
  {
   "cell_type": "code",
   "execution_count": null,
   "metadata": {},
   "outputs": [
    {
     "name": "stdout",
     "output_type": "stream",
     "text": [
      "WARNING:tensorflow:From /srv/conda/envs/notebook/lib/python3.7/site-packages/tensorflow/python/ops/math_ops.py:3066: to_int32 (from tensorflow.python.ops.math_ops) is deprecated and will be removed in a future version.\n",
      "Instructions for updating:\n",
      "Use tf.cast instead.\n"
     ]
    }
   ],
   "source": [
    "y_train_dummy = to_categorical(y_train)\n",
    "y_test_dummy = to_categorical(y_test)\n",
    "\n",
    "mlp.fit(X_train, \n",
    "        y_train_dummy, \n",
    "        epochs=500,\n",
    "        verbose=0)"
   ]
  },
  {
   "cell_type": "code",
   "execution_count": null,
   "metadata": {},
   "outputs": [],
   "source": []
  }
 ],
 "metadata": {
  "kernelspec": {
   "display_name": "Python 3",
   "language": "python",
   "name": "python3"
  },
  "language_info": {
   "codemirror_mode": {
    "name": "ipython",
    "version": 3
   },
   "file_extension": ".py",
   "mimetype": "text/x-python",
   "name": "python",
   "nbconvert_exporter": "python",
   "pygments_lexer": "ipython3",
   "version": "3.7.3"
  }
 },
 "nbformat": 4,
 "nbformat_minor": 2
}
